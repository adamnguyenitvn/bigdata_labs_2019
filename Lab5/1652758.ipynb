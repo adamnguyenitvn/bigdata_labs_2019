{
  "nbformat": 4,
  "nbformat_minor": 0,
  "metadata": {
    "kernelspec": {
      "display_name": "Python 3",
      "language": "python",
      "name": "python3"
    },
    "language_info": {
      "codemirror_mode": {
        "name": "ipython",
        "version": 3
      },
      "file_extension": ".py",
      "mimetype": "text/x-python",
      "name": "python",
      "nbconvert_exporter": "python",
      "pygments_lexer": "ipython3",
      "version": "3.6.5"
    },
    "colab": {
      "name": "1652758.ipynb",
      "provenance": [],
      "collapsed_sections": []
    }
  },
  "cells": [
    {
      "cell_type": "markdown",
      "metadata": {
        "id": "E5QKWCeVO3sE",
        "colab_type": "text"
      },
      "source": [
        "## Data Preparation\n",
        "Let's load this data into Python."
      ]
    },
    {
      "cell_type": "code",
      "metadata": {
        "id": "hMWS12zTO3sG",
        "colab_type": "code",
        "colab": {}
      },
      "source": [
        "import pandas as pd\n",
        "import numpy as np\n",
        "import matplotlib.pyplot as plt\n",
        "\n",
        "# Reading ratings file\n",
        "# Ignore the timestamp column\n",
        "ratings = pd.read_csv('ratings.csv', encoding='latin-1', usecols=['user_id', 'movie_id', 'rating'])\n",
        "\n",
        "# Reading users file\n",
        "users = pd.read_csv('users.csv', encoding='latin-1', usecols=['user_id', 'gender', 'zipcode', 'age_desc', 'occ_desc'])\n",
        "\n",
        "# Reading movies file\n",
        "movies = pd.read_csv('movies.csv', encoding='latin-1', usecols=['movie_id', 'title', 'genres'])"
      ],
      "execution_count": 0,
      "outputs": []
    },
    {
      "cell_type": "code",
      "metadata": {
        "id": "vR1JkffNO3sJ",
        "colab_type": "code",
        "colab": {
          "base_uri": "https://localhost:8080/",
          "height": 34
        },
        "outputId": "62fa513a-d7aa-4d64-9e64-de7f6872b2d5"
      },
      "source": [
        "print(movies.shape)"
      ],
      "execution_count": 211,
      "outputs": [
        {
          "output_type": "stream",
          "text": [
            "(100, 3)\n"
          ],
          "name": "stdout"
        }
      ]
    },
    {
      "cell_type": "markdown",
      "metadata": {
        "id": "Z9wb8HHdO3sM",
        "colab_type": "text"
      },
      "source": [
        "## Content-Based Recommendation Model\n",
        "\n",
        "Computes similarity between movies based on movie genres. It will suggest movies that are most similar to a particular movie based on its genre."
      ]
    },
    {
      "cell_type": "code",
      "metadata": {
        "id": "4696Q7OMO3sN",
        "colab_type": "code",
        "colab": {
          "base_uri": "https://localhost:8080/",
          "height": 34
        },
        "outputId": "d5734b3f-bf11-4d7d-ef1d-f4cfb7a143ff"
      },
      "source": [
        "# Break up the big genre string into a string array\n",
        "movies['genres'] = movies['genres'].str.split('|')\n",
        "print(movies.shape)\n"
      ],
      "execution_count": 212,
      "outputs": [
        {
          "output_type": "stream",
          "text": [
            "(100, 3)\n"
          ],
          "name": "stdout"
        }
      ]
    },
    {
      "cell_type": "code",
      "metadata": {
        "id": "wJlnrLhwO3sP",
        "colab_type": "code",
        "colab": {
          "base_uri": "https://localhost:8080/",
          "height": 195
        },
        "outputId": "ccd24de4-867b-485e-c5f9-04c78c20e0b7"
      },
      "source": [
        "# Convert genres to string value\n",
        "movies['genres'] = movies['genres'].fillna(\"\").astype('str')\n",
        "movies.head(5)"
      ],
      "execution_count": 213,
      "outputs": [
        {
          "output_type": "execute_result",
          "data": {
            "text/html": [
              "<div>\n",
              "<style scoped>\n",
              "    .dataframe tbody tr th:only-of-type {\n",
              "        vertical-align: middle;\n",
              "    }\n",
              "\n",
              "    .dataframe tbody tr th {\n",
              "        vertical-align: top;\n",
              "    }\n",
              "\n",
              "    .dataframe thead th {\n",
              "        text-align: right;\n",
              "    }\n",
              "</style>\n",
              "<table border=\"1\" class=\"dataframe\">\n",
              "  <thead>\n",
              "    <tr style=\"text-align: right;\">\n",
              "      <th></th>\n",
              "      <th>movie_id</th>\n",
              "      <th>title</th>\n",
              "      <th>genres</th>\n",
              "    </tr>\n",
              "  </thead>\n",
              "  <tbody>\n",
              "    <tr>\n",
              "      <th>0</th>\n",
              "      <td>1</td>\n",
              "      <td>Toy Story (1995)</td>\n",
              "      <td>['Animation', \"Children's\", 'Comedy']</td>\n",
              "    </tr>\n",
              "    <tr>\n",
              "      <th>1</th>\n",
              "      <td>2</td>\n",
              "      <td>Jumanji (1995)</td>\n",
              "      <td>['Adventure', \"Children's\", 'Fantasy']</td>\n",
              "    </tr>\n",
              "    <tr>\n",
              "      <th>2</th>\n",
              "      <td>3</td>\n",
              "      <td>Grumpier Old Men (1995)</td>\n",
              "      <td>['Comedy', 'Romance']</td>\n",
              "    </tr>\n",
              "    <tr>\n",
              "      <th>3</th>\n",
              "      <td>4</td>\n",
              "      <td>Waiting to Exhale (1995)</td>\n",
              "      <td>['Comedy', 'Drama']</td>\n",
              "    </tr>\n",
              "    <tr>\n",
              "      <th>4</th>\n",
              "      <td>5</td>\n",
              "      <td>Father of the Bride Part II (1995)</td>\n",
              "      <td>['Comedy']</td>\n",
              "    </tr>\n",
              "  </tbody>\n",
              "</table>\n",
              "</div>"
            ],
            "text/plain": [
              "   movie_id  ...                                  genres\n",
              "0         1  ...   ['Animation', \"Children's\", 'Comedy']\n",
              "1         2  ...  ['Adventure', \"Children's\", 'Fantasy']\n",
              "2         3  ...                   ['Comedy', 'Romance']\n",
              "3         4  ...                     ['Comedy', 'Drama']\n",
              "4         5  ...                              ['Comedy']\n",
              "\n",
              "[5 rows x 3 columns]"
            ]
          },
          "metadata": {
            "tags": []
          },
          "execution_count": 213
        }
      ]
    },
    {
      "cell_type": "code",
      "metadata": {
        "id": "3RMfNbcWO3sR",
        "colab_type": "code",
        "colab": {
          "base_uri": "https://localhost:8080/",
          "height": 34
        },
        "outputId": "2a787262-0607-4199-f563-a10a175ae121"
      },
      "source": [
        "from sklearn.feature_extraction.text import TfidfVectorizer\n",
        "tf = TfidfVectorizer(analyzer='word',ngram_range=(1, 2),min_df=0, stop_words='english')\n",
        "tfidf_matrix = tf.fit_transform(movies['genres'])\n",
        "tfidf_matrix.shape"
      ],
      "execution_count": 214,
      "outputs": [
        {
          "output_type": "execute_result",
          "data": {
            "text/plain": [
              "(100, 44)"
            ]
          },
          "metadata": {
            "tags": []
          },
          "execution_count": 214
        }
      ]
    },
    {
      "cell_type": "code",
      "metadata": {
        "id": "lpLjQnZPO3sT",
        "colab_type": "code",
        "colab": {
          "base_uri": "https://localhost:8080/",
          "height": 52
        },
        "outputId": "8d383df4-124a-421d-88d3-2842c8e64461"
      },
      "source": [
        "tfidf_matrix"
      ],
      "execution_count": 215,
      "outputs": [
        {
          "output_type": "execute_result",
          "data": {
            "text/plain": [
              "<100x44 sparse matrix of type '<class 'numpy.float64'>'\n",
              "\twith 231 stored elements in Compressed Sparse Row format>"
            ]
          },
          "metadata": {
            "tags": []
          },
          "execution_count": 215
        }
      ]
    },
    {
      "cell_type": "code",
      "metadata": {
        "id": "n1XBWmioO3sV",
        "colab_type": "code",
        "colab": {
          "base_uri": "https://localhost:8080/",
          "height": 246
        },
        "outputId": "94c41d24-d5d2-46bf-b706-a531054e5556"
      },
      "source": [
        "from sklearn.metrics.pairwise import linear_kernel\n",
        "cosine_sim = linear_kernel(tfidf_matrix, tfidf_matrix)\n",
        "#cosine_sim[:4, :4]\n",
        "cosine_sim"
      ],
      "execution_count": 216,
      "outputs": [
        {
          "output_type": "execute_result",
          "data": {
            "text/plain": [
              "array([[1.        , 0.15337409, 0.12551391, ..., 0.        , 0.        ,\n",
              "        0.        ],\n",
              "       [0.15337409, 1.        , 0.        , ..., 0.        , 0.        ,\n",
              "        0.        ],\n",
              "       [0.12551391, 0.        , 1.        , ..., 0.        , 0.        ,\n",
              "        0.        ],\n",
              "       ...,\n",
              "       [0.        , 0.        , 0.        , ..., 1.        , 0.        ,\n",
              "        0.25861841],\n",
              "       [0.        , 0.        , 0.        , ..., 0.        , 1.        ,\n",
              "        0.        ],\n",
              "       [0.        , 0.        , 0.        , ..., 0.25861841, 0.        ,\n",
              "        1.        ]])"
            ]
          },
          "metadata": {
            "tags": []
          },
          "execution_count": 216
        }
      ]
    },
    {
      "cell_type": "code",
      "metadata": {
        "id": "NmllJgv-O3sW",
        "colab_type": "code",
        "colab": {}
      },
      "source": [
        "# Build a 1-dimensional array with movie titles\n",
        "titles = movies['title']\n",
        "indices = pd.Series(movies.index, index=movies['title'])\n",
        "\n",
        "#TODO: Function that get movie recommendations based on the cosine similarity score of movie genres\n",
        "def genre_recommendations(title):\n",
        "    title_idx = indices[title]\n",
        "    title_similarities = cosine_sim[title_idx]\n",
        "    title_rankings = pd.DataFrame([titles, title_similarities], index=['Title', 'Similarity']).transpose()\n",
        "    return title_rankings.sort_values(by='Similarity', ascending=False)[1:]"
      ],
      "execution_count": 0,
      "outputs": []
    },
    {
      "cell_type": "markdown",
      "metadata": {
        "id": "ePoUXrvEO3sZ",
        "colab_type": "text"
      },
      "source": [
        "Let's try and get the top recommendations for a few movies and see how good the recommendations are."
      ]
    },
    {
      "cell_type": "code",
      "metadata": {
        "id": "pRfDMZ82O3sa",
        "colab_type": "code",
        "colab": {
          "base_uri": "https://localhost:8080/",
          "height": 639
        },
        "outputId": "69ab125a-9329-4afa-cb35-eb602a3b405a"
      },
      "source": [
        "genre_recommendations('Toy Story (1995)').head(20)"
      ],
      "execution_count": 218,
      "outputs": [
        {
          "output_type": "execute_result",
          "data": {
            "text/html": [
              "<div>\n",
              "<style scoped>\n",
              "    .dataframe tbody tr th:only-of-type {\n",
              "        vertical-align: middle;\n",
              "    }\n",
              "\n",
              "    .dataframe tbody tr th {\n",
              "        vertical-align: top;\n",
              "    }\n",
              "\n",
              "    .dataframe thead th {\n",
              "        text-align: right;\n",
              "    }\n",
              "</style>\n",
              "<table border=\"1\" class=\"dataframe\">\n",
              "  <thead>\n",
              "    <tr style=\"text-align: right;\">\n",
              "      <th></th>\n",
              "      <th>Title</th>\n",
              "      <th>Similarity</th>\n",
              "    </tr>\n",
              "  </thead>\n",
              "  <tbody>\n",
              "    <tr>\n",
              "      <th>12</th>\n",
              "      <td>Balto (1995)</td>\n",
              "      <td>0.819159</td>\n",
              "    </tr>\n",
              "    <tr>\n",
              "      <th>86</th>\n",
              "      <td>Dunston Checks In (1996)</td>\n",
              "      <td>0.702985</td>\n",
              "    </tr>\n",
              "    <tr>\n",
              "      <th>33</th>\n",
              "      <td>Babe (1995)</td>\n",
              "      <td>0.582071</td>\n",
              "    </tr>\n",
              "    <tr>\n",
              "      <th>47</th>\n",
              "      <td>Pocahontas (1995)</td>\n",
              "      <td>0.50019</td>\n",
              "    </tr>\n",
              "    <tr>\n",
              "      <th>68</th>\n",
              "      <td>Friday (1995)</td>\n",
              "      <td>0.275812</td>\n",
              "    </tr>\n",
              "    <tr>\n",
              "      <th>87</th>\n",
              "      <td>Black Sheep (1996)</td>\n",
              "      <td>0.275812</td>\n",
              "    </tr>\n",
              "    <tr>\n",
              "      <th>37</th>\n",
              "      <td>It Takes Two (1995)</td>\n",
              "      <td>0.275812</td>\n",
              "    </tr>\n",
              "    <tr>\n",
              "      <th>51</th>\n",
              "      <td>Mighty Aphrodite (1995)</td>\n",
              "      <td>0.275812</td>\n",
              "    </tr>\n",
              "    <tr>\n",
              "      <th>64</th>\n",
              "      <td>Bio-Dome (1996)</td>\n",
              "      <td>0.275812</td>\n",
              "    </tr>\n",
              "    <tr>\n",
              "      <th>18</th>\n",
              "      <td>Ace Ventura: When Nature Calls (1995)</td>\n",
              "      <td>0.275812</td>\n",
              "    </tr>\n",
              "    <tr>\n",
              "      <th>4</th>\n",
              "      <td>Father of the Bride Part II (1995)</td>\n",
              "      <td>0.275812</td>\n",
              "    </tr>\n",
              "    <tr>\n",
              "      <th>95</th>\n",
              "      <td>In the Bleak Midwinter (1995)</td>\n",
              "      <td>0.275812</td>\n",
              "    </tr>\n",
              "    <tr>\n",
              "      <th>62</th>\n",
              "      <td>Don't Be a Menace to South Central While Drink...</td>\n",
              "      <td>0.275812</td>\n",
              "    </tr>\n",
              "    <tr>\n",
              "      <th>7</th>\n",
              "      <td>Tom and Huck (1995)</td>\n",
              "      <td>0.216312</td>\n",
              "    </tr>\n",
              "    <tr>\n",
              "      <th>55</th>\n",
              "      <td>Kids of the Round Table (1995)</td>\n",
              "      <td>0.153374</td>\n",
              "    </tr>\n",
              "    <tr>\n",
              "      <th>1</th>\n",
              "      <td>Jumanji (1995)</td>\n",
              "      <td>0.153374</td>\n",
              "    </tr>\n",
              "    <tr>\n",
              "      <th>71</th>\n",
              "      <td>Kicking and Screaming (1995)</td>\n",
              "      <td>0.138264</td>\n",
              "    </tr>\n",
              "    <tr>\n",
              "      <th>44</th>\n",
              "      <td>To Die For (1995)</td>\n",
              "      <td>0.138264</td>\n",
              "    </tr>\n",
              "    <tr>\n",
              "      <th>3</th>\n",
              "      <td>Waiting to Exhale (1995)</td>\n",
              "      <td>0.138264</td>\n",
              "    </tr>\n",
              "    <tr>\n",
              "      <th>83</th>\n",
              "      <td>Last Summer in the Hamptons (1995)</td>\n",
              "      <td>0.138264</td>\n",
              "    </tr>\n",
              "  </tbody>\n",
              "</table>\n",
              "</div>"
            ],
            "text/plain": [
              "                                                Title Similarity\n",
              "12                                       Balto (1995)   0.819159\n",
              "86                           Dunston Checks In (1996)   0.702985\n",
              "33                                        Babe (1995)   0.582071\n",
              "47                                  Pocahontas (1995)    0.50019\n",
              "68                                      Friday (1995)   0.275812\n",
              "87                                 Black Sheep (1996)   0.275812\n",
              "37                                It Takes Two (1995)   0.275812\n",
              "51                            Mighty Aphrodite (1995)   0.275812\n",
              "64                                    Bio-Dome (1996)   0.275812\n",
              "18              Ace Ventura: When Nature Calls (1995)   0.275812\n",
              "4                  Father of the Bride Part II (1995)   0.275812\n",
              "95                      In the Bleak Midwinter (1995)   0.275812\n",
              "62  Don't Be a Menace to South Central While Drink...   0.275812\n",
              "7                                 Tom and Huck (1995)   0.216312\n",
              "55                     Kids of the Round Table (1995)   0.153374\n",
              "1                                      Jumanji (1995)   0.153374\n",
              "71                       Kicking and Screaming (1995)   0.138264\n",
              "44                                  To Die For (1995)   0.138264\n",
              "3                            Waiting to Exhale (1995)   0.138264\n",
              "83                 Last Summer in the Hamptons (1995)   0.138264"
            ]
          },
          "metadata": {
            "tags": []
          },
          "execution_count": 218
        }
      ]
    },
    {
      "cell_type": "markdown",
      "metadata": {
        "id": "-6-8l7OiO3sc",
        "colab_type": "text"
      },
      "source": [
        "## Collaborative Filtering Recommendation Model\n",
        "\n",
        "\n",
        "Use the file **ratings.csv** first as it contains User ID, Movie IDs and Ratings. These three elements are all needed for determining the similarity of the users based on their ratings for a particular movie.\n"
      ]
    },
    {
      "cell_type": "code",
      "metadata": {
        "id": "m7oM4TCAO3sd",
        "colab_type": "code",
        "colab": {}
      },
      "source": [
        "# Fill NaN values in user_id and movie_id column with 0\n",
        "ratings['user_id'] = ratings['user_id'].fillna(0)\n",
        "ratings['movie_id'] = ratings['movie_id'].fillna(0)\n",
        "\n",
        "# Replace NaN values in rating column with average of all values\n",
        "ratings['rating'] = ratings['rating'].fillna(ratings['rating'].mean())"
      ],
      "execution_count": 0,
      "outputs": []
    },
    {
      "cell_type": "markdown",
      "metadata": {
        "id": "7scylo5MO3se",
        "colab_type": "text"
      },
      "source": [
        "Take a random sample of 20,000 ratings (2%) (due to limitation of personal laptop)"
      ]
    },
    {
      "cell_type": "code",
      "metadata": {
        "id": "5mgSPbS3O3sf",
        "colab_type": "code",
        "colab": {
          "base_uri": "https://localhost:8080/",
          "height": 175
        },
        "outputId": "4216c32e-c736-4ef3-f91a-9915dd6066bd"
      },
      "source": [
        "# Randomly sample 1% of the ratings dataset\n",
        "small_data = ratings.sample(frac=0.02)\n",
        "# Check the sample info\n",
        "print(small_data.info())"
      ],
      "execution_count": 235,
      "outputs": [
        {
          "output_type": "stream",
          "text": [
            "<class 'pandas.core.frame.DataFrame'>\n",
            "Int64Index: 150 entries, 2210 to 4126\n",
            "Data columns (total 3 columns):\n",
            "user_id     150 non-null int64\n",
            "movie_id    150 non-null int64\n",
            "rating      150 non-null int64\n",
            "dtypes: int64(3)\n",
            "memory usage: 4.7 KB\n",
            "None\n"
          ],
          "name": "stdout"
        }
      ]
    },
    {
      "cell_type": "code",
      "metadata": {
        "id": "f47hPm02O3sh",
        "colab_type": "code",
        "colab": {}
      },
      "source": [
        "from sklearn.model_selection import train_test_split\n",
        "train_data, test_data = train_test_split(small_data, test_size=0.2)"
      ],
      "execution_count": 0,
      "outputs": []
    },
    {
      "cell_type": "code",
      "metadata": {
        "id": "T-f2TUX7O3sj",
        "colab_type": "code",
        "colab": {
          "base_uri": "https://localhost:8080/",
          "height": 195
        },
        "outputId": "8d3a1d73-7a5e-4aec-fb8b-22e3f6ea7a8d"
      },
      "source": [
        "# Create two user-item matrices, one for training and another for testing\n",
        "train_data_matrix = train_data.as_matrix(columns = ['user_id', 'movie_id', 'rating'])\n",
        "test_data_matrix = test_data.as_matrix(columns = ['user_id', 'movie_id', 'rating'])\n",
        "\n",
        "# Check their shape\n",
        "print(train_data_matrix.shape)\n",
        "print(test_data_matrix[:4, :4])"
      ],
      "execution_count": 248,
      "outputs": [
        {
          "output_type": "stream",
          "text": [
            "(120, 3)\n",
            "[[53 66  2]\n",
            " [67 91  3]\n",
            " [32 47  5]\n",
            " [52 32  2]]\n"
          ],
          "name": "stdout"
        },
        {
          "output_type": "stream",
          "text": [
            "/usr/local/lib/python3.6/dist-packages/ipykernel_launcher.py:1: FutureWarning: Method .as_matrix will be removed in a future version. Use .values instead.\n",
            "  \"\"\"Entry point for launching an IPython kernel.\n",
            "/usr/local/lib/python3.6/dist-packages/ipykernel_launcher.py:2: FutureWarning: Method .as_matrix will be removed in a future version. Use .values instead.\n",
            "  \n"
          ],
          "name": "stderr"
        }
      ]
    },
    {
      "cell_type": "markdown",
      "metadata": {
        "id": "hu7RHQloO3sl",
        "colab_type": "text"
      },
      "source": [
        "Now I use the **pairwise_distances** function from sklearn [Pearson Correlation Coefficient](https://stackoverflow.com/questions/1838806/euclidean-distance-vs-pearson-correlation-vs-cosine-similarity). This method provides a safe way to take a distance matrix as input, while preserving compatibility with many other algorithms that take a vector array."
      ]
    },
    {
      "cell_type": "code",
      "metadata": {
        "id": "WaeHW4qJO3sl",
        "colab_type": "code",
        "colab": {
          "base_uri": "https://localhost:8080/",
          "height": 87
        },
        "outputId": "1b953943-1473-4755-e56d-34e756a682dc"
      },
      "source": [
        "from sklearn.metrics.pairwise import pairwise_distances\n",
        "\n",
        "# User Similarity Matrix\n",
        "user_correlation = 1 - pairwise_distances(train_data, metric='correlation')\n",
        "user_correlation[np.isnan(user_correlation)] = 0\n",
        "print(user_correlation[:4, :4])"
      ],
      "execution_count": 241,
      "outputs": [
        {
          "output_type": "stream",
          "text": [
            "[[ 1.          0.79928029 -0.14215381  0.99594166]\n",
            " [ 0.79928029  1.          0.48123469  0.85012348]\n",
            " [-0.14215381  0.48123469  1.         -0.05248978]\n",
            " [ 0.99594166  0.85012348 -0.05248978  1.        ]]\n"
          ],
          "name": "stdout"
        }
      ]
    },
    {
      "cell_type": "code",
      "metadata": {
        "id": "Chv7A6pDO3sn",
        "colab_type": "code",
        "colab": {
          "base_uri": "https://localhost:8080/",
          "height": 70
        },
        "outputId": "2a64389a-1333-49fd-bdd1-28c3fff4f645"
      },
      "source": [
        "# Item Similarity Matrix\n",
        "item_correlation = 1 - pairwise_distances(train_data_matrix.T, metric='correlation')\n",
        "item_correlation[np.isnan(item_correlation)] = 0\n",
        "print(item_correlation[:4, :4])"
      ],
      "execution_count": 268,
      "outputs": [
        {
          "output_type": "stream",
          "text": [
            "[[ 1.         -0.03793381 -0.05572371]\n",
            " [-0.03793381  1.          0.04664773]\n",
            " [-0.05572371  0.04664773  1.        ]]\n"
          ],
          "name": "stdout"
        }
      ]
    },
    {
      "cell_type": "markdown",
      "metadata": {
        "id": "aXoiu6htO3sp",
        "colab_type": "text"
      },
      "source": [
        "With the similarity matrix in hand, I can now predict the ratings that were not included with the data. Using these predictions, I can then compare them with the test data to attempt to validate the quality of our recommender model.\n",
        "\n",
        "For the user-user CF case, I will look at the similarity between 2 users (A and B, for example) as weights that are multiplied by the ratings of a similar user B (corrected for the average rating of that user)."
      ]
    },
    {
      "cell_type": "code",
      "metadata": {
        "id": "0G4_e3PoO3sq",
        "colab_type": "code",
        "colab": {}
      },
      "source": [
        "#TODO: Function to predict ratings\n",
        "def predict(ratings, similarity, type='user'):\n",
        "    pred = np.zeros(ratings.shape)\n",
        "    if type == 'user':\n",
        "        for row, rating in enumerate(ratings):\n",
        "            pred[row] = [rating[0], rating[1], np.sum(np.dot(similarity[row][row:], ratings[:,2][row:])) / np.sum(similarity[row][row:])]\n",
        "    elif type == 'item':\n",
        "        print(similarity)\n",
        "        for col, rating in enumerate(ratings.T):\n",
        "            if col == 2:\n",
        "              pred[:, col] = np.sum(np.dot(np.array([similarity[:, col]]).T, np.array([ratings[:, col]])), axis=0)\n",
        "            else:\n",
        "              pred[:, col] = ratings[:, col]\n",
        "    return pred"
      ],
      "execution_count": 0,
      "outputs": []
    },
    {
      "cell_type": "code",
      "metadata": {
        "id": "cViDdjLsO3ss",
        "colab_type": "code",
        "colab": {}
      },
      "source": [
        "from sklearn.metrics import mean_squared_error\n",
        "from math import sqrt\n",
        "\n",
        "# Function to calculate RMSE\n",
        "def rmse(pred, actual):\n",
        "    # Ignore nonzero terms.\n",
        "    pred = pred[actual.nonzero()].flatten()\n",
        "    print(pred)\n",
        "    actual = actual[actual.nonzero()].flatten()\n",
        "    return sqrt(mean_squared_error(pred, actual))"
      ],
      "execution_count": 0,
      "outputs": []
    },
    {
      "cell_type": "code",
      "metadata": {
        "id": "Z7O_aUj6O3su",
        "colab_type": "code",
        "colab": {
          "base_uri": "https://localhost:8080/",
          "height": 633
        },
        "outputId": "3d420567-897c-4708-f427-1bca73251c09"
      },
      "source": [
        "# Predict ratings on the training data with both similarity score\n",
        "user_prediction = predict(train_data_matrix, user_correlation, type='user')\n",
        "item_prediction = predict(train_data_matrix, item_correlation, type='item')\n",
        "\n",
        "# RMSE on the test data\n",
        "print('User-based CF RMSE: ' + str(rmse(user_prediction, test_data_matrix)))\n",
        "print('Item-based CF RMSE: ' + str(rmse(item_prediction, test_data_matrix)))"
      ],
      "execution_count": 324,
      "outputs": [
        {
          "output_type": "stream",
          "text": [
            "[[ 1.         -0.03793381 -0.05572371]\n",
            " [-0.03793381  1.          0.04664773]\n",
            " [-0.05572371  0.04664773  1.        ]]\n",
            "[18.          7.          3.42502478 83.         75.          3.4546123\n",
            "  9.         56.          3.47073174 32.         15.          3.44142417\n",
            " 67.         54.          3.43526702 49.         68.          3.42034417\n",
            " 17.         80.          3.43189202 90.          1.          3.41684736\n",
            "  7.         48.          3.43823792 78.         84.          3.40800938\n",
            " 56.          2.          3.38300411 67.         71.          3.39807777\n",
            " 87.          5.          3.37642037 59.          6.          3.40539732\n",
            " 89.         37.          3.41349244  9.         30.          3.41143051\n",
            " 33.         63.          3.428853   84.          9.          3.39673387\n",
            " 79.         59.          3.42274225 36.         67.          3.44987917\n",
            " 36.         62.          3.47000169 99.         12.          3.42976169\n",
            " 38.         13.          3.4441307   9.         39.          3.4734629\n",
            " 61.         47.          3.4564241  48.         88.          3.49885293\n",
            " 26.         18.          3.46616722  8.         85.          3.51312051\n",
            " 68.         41.          3.44122364 12.         82.          3.49272847]\n",
            "User-based CF RMSE: 30.863230665789512\n",
            "[18.          7.          1.98184805 83.         75.          3.96369611\n",
            "  9.         56.          4.95462014 32.         15.          3.96369611\n",
            " 67.         54.          4.95462014 49.         68.          2.97277208\n",
            " 17.         80.          3.96369611 90.          1.          4.95462014\n",
            "  7.         48.          3.96369611 78.         84.          3.96369611\n",
            " 56.          2.          3.96369611 67.         71.          2.97277208\n",
            " 87.          5.          1.98184805 59.          6.          2.97277208\n",
            " 89.         37.          3.96369611  9.         30.          1.98184805\n",
            " 33.         63.          2.97277208 84.          9.          2.97277208\n",
            " 79.         59.          1.98184805 36.         67.          1.98184805\n",
            " 36.         62.          3.96369611 99.         12.          2.97277208\n",
            " 38.         13.          3.96369611  9.         39.          1.98184805\n",
            " 61.         47.          1.98184805 48.         88.          3.96369611\n",
            " 26.         18.          4.95462014  8.         85.          3.96369611\n",
            " 68.         41.          3.96369611 12.         82.          3.96369611]\n",
            "Item-based CF RMSE: 30.8706192246138\n"
          ],
          "name": "stdout"
        }
      ]
    }
  ]
}