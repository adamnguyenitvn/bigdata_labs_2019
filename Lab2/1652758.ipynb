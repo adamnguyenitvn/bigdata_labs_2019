{
 "cells": [
  {
   "cell_type": "markdown",
   "metadata": {},
   "source": [
    "Do the following exercise.\n",
    "\n",
    "1) Clone https://github.com/adamnguyenitvn/bigdata_labs_2019\n",
    "\n",
    "2) Open sales.ipynb\n",
    "\n",
    "3) Make a copy of sales.ipynb, name it with your student ID\n",
    "\n",
    "4) Do the exercise\n",
    "\n",
    "5) Write your github username here http://socrates.io/#KFCbqAn  . We will add you to the repos for push permission\n",
    "\n",
    "6) Check your email for github invitation\n",
    "\n",
    "7) Push your Jupyter notebook to github"
   ]
  },
  {
   "cell_type": "code",
   "execution_count": 180,
   "metadata": {
    "pycharm": {
     "is_executing": false
    }
   },
   "outputs": [],
   "source": [
    "import pandas as pd\n",
    "import matplotlib.pyplot as plt\n",
    "import seaborn\n",
    "import re"
   ]
  },
  {
   "cell_type": "markdown",
   "metadata": {},
   "source": [
    "#### Import the data and get a high-level picture"
   ]
  },
  {
   "cell_type": "code",
   "execution_count": 181,
   "metadata": {
    "pycharm": {
     "is_executing": false
    }
   },
   "outputs": [
    {
     "data": {
      "text/plain": "   order_id                       name           ordered_at  price  quantity  \\\n0     10000   \"ICE CREAM\" Peanut Fudge  2018-01-01 11:30:00  $3.50         3   \n1     10000   \"ICE CREAM\" Peanut Fudge  2018-01-01 11:30:00  $3.50         1   \n2     10001         \"SORBET\" Raspberry  2018-01-01 12:14:54  $2.50         2   \n3     10001                        NaN  2018-01-01 12:14:54  $1.50         1   \n4     10001  \"CONE\" Dipped Waffle Cone  2018-01-01 12:14:54  $3.50         1   \n\n  line_total  \n0     $10.50  \n1      $3.50  \n2      $5.00  \n3      $1.50  \n4      $3.50  ",
      "text/html": "<div>\n<style scoped>\n    .dataframe tbody tr th:only-of-type {\n        vertical-align: middle;\n    }\n\n    .dataframe tbody tr th {\n        vertical-align: top;\n    }\n\n    .dataframe thead th {\n        text-align: right;\n    }\n</style>\n<table border=\"1\" class=\"dataframe\">\n  <thead>\n    <tr style=\"text-align: right;\">\n      <th></th>\n      <th>order_id</th>\n      <th>name</th>\n      <th>ordered_at</th>\n      <th>price</th>\n      <th>quantity</th>\n      <th>line_total</th>\n    </tr>\n  </thead>\n  <tbody>\n    <tr>\n      <th>0</th>\n      <td>10000</td>\n      <td>\"ICE CREAM\" Peanut Fudge</td>\n      <td>2018-01-01 11:30:00</td>\n      <td>$3.50</td>\n      <td>3</td>\n      <td>$10.50</td>\n    </tr>\n    <tr>\n      <th>1</th>\n      <td>10000</td>\n      <td>\"ICE CREAM\" Peanut Fudge</td>\n      <td>2018-01-01 11:30:00</td>\n      <td>$3.50</td>\n      <td>1</td>\n      <td>$3.50</td>\n    </tr>\n    <tr>\n      <th>2</th>\n      <td>10001</td>\n      <td>\"SORBET\" Raspberry</td>\n      <td>2018-01-01 12:14:54</td>\n      <td>$2.50</td>\n      <td>2</td>\n      <td>$5.00</td>\n    </tr>\n    <tr>\n      <th>3</th>\n      <td>10001</td>\n      <td>NaN</td>\n      <td>2018-01-01 12:14:54</td>\n      <td>$1.50</td>\n      <td>1</td>\n      <td>$1.50</td>\n    </tr>\n    <tr>\n      <th>4</th>\n      <td>10001</td>\n      <td>\"CONE\" Dipped Waffle Cone</td>\n      <td>2018-01-01 12:14:54</td>\n      <td>$3.50</td>\n      <td>1</td>\n      <td>$3.50</td>\n    </tr>\n  </tbody>\n</table>\n</div>"
     },
     "metadata": {},
     "output_type": "execute_result",
     "execution_count": 181
    }
   ],
   "source": [
    "df = pd.read_csv('sales.csv')\n",
    "df.head()"
   ]
  },
  {
   "cell_type": "code",
   "execution_count": 182,
   "metadata": {
    "pycharm": {
     "is_executing": false
    }
   },
   "outputs": [
    {
     "data": {
      "text/plain": "(29922, 6)"
     },
     "metadata": {},
     "output_type": "execute_result",
     "execution_count": 182
    }
   ],
   "source": [
    "df.shape"
   ]
  },
  {
   "cell_type": "code",
   "execution_count": 183,
   "metadata": {
    "pycharm": {
     "is_executing": false
    }
   },
   "outputs": [
    {
     "data": {
      "text/plain": "order_id       int64\nname          object\nordered_at    object\nprice         object\nquantity       int64\nline_total    object\ndtype: object"
     },
     "metadata": {},
     "output_type": "execute_result",
     "execution_count": 183
    }
   ],
   "source": [
    "df.dtypes"
   ]
  },
  {
   "cell_type": "markdown",
   "metadata": {},
   "source": [
    "#### TODO: Fix column datatypes\n",
    "\n",
    "Change ordered_at to datetime\n",
    "\n",
    "Change price and line_total to float"
   ]
  },
  {
   "cell_type": "code",
   "execution_count": 184,
   "metadata": {
    "pycharm": {
     "is_executing": false
    }
   },
   "outputs": [],
   "source": [
    "df['ordered_at'] = pd.to_datetime(df['ordered_at'])"
   ]
  },
  {
   "cell_type": "code",
   "execution_count": 185,
   "metadata": {
    "pycharm": {
     "is_executing": false
    }
   },
   "outputs": [],
   "source": [
    "def to_float(num_with_currency):\n",
    "    return float(num_with_currency[1:])\n",
    "\n",
    "df['price'] = df['price'].apply(to_float)\n",
    "df['line_total'] = df['line_total'].apply(to_float)"
   ]
  },
  {
   "cell_type": "code",
   "execution_count": 186,
   "metadata": {
    "pycharm": {
     "is_executing": false
    }
   },
   "outputs": [
    {
     "data": {
      "text/plain": "order_id               int64\nname                  object\nordered_at    datetime64[ns]\nprice                float64\nquantity               int64\nline_total           float64\ndtype: object"
     },
     "metadata": {},
     "output_type": "execute_result",
     "execution_count": 186
    }
   ],
   "source": [
    "df.dtypes"
   ]
  },
  {
   "cell_type": "markdown",
   "metadata": {},
   "source": [
    "#### TODO: drop if duplicated or null"
   ]
  },
  {
   "cell_type": "code",
   "execution_count": 187,
   "metadata": {
    "pycharm": {
     "is_executing": false
    }
   },
   "outputs": [],
   "source": [
    "df.drop_duplicates(inplace=True)"
   ]
  },
  {
   "cell_type": "code",
   "execution_count": 188,
   "outputs": [
    {
     "data": {
      "text/plain": "0"
     },
     "metadata": {},
     "output_type": "execute_result",
     "execution_count": 188
    }
   ],
   "source": [
    "df[df.duplicated()].shape[0]"
   ],
   "metadata": {
    "collapsed": false,
    "pycharm": {
     "name": "#%%\n",
     "is_executing": false
    }
   }
  },
  {
   "cell_type": "code",
   "execution_count": 189,
   "outputs": [],
   "source": [
    "df.dropna(inplace=True)"
   ],
   "metadata": {
    "collapsed": false,
    "pycharm": {
     "name": "#%%\n",
     "is_executing": false
    }
   }
  },
  {
   "cell_type": "code",
   "execution_count": 190,
   "outputs": [
    {
     "data": {
      "text/plain": "order_id      0\nname          0\nordered_at    0\nprice         0\nquantity      0\nline_total    0\ndtype: int64"
     },
     "metadata": {},
     "output_type": "execute_result",
     "execution_count": 190
    }
   ],
   "source": [
    "df.isnull().sum()"
   ],
   "metadata": {
    "collapsed": false,
    "pycharm": {
     "name": "#%%\n",
     "is_executing": false
    }
   }
  },
  {
   "cell_type": "code",
   "execution_count": 191,
   "outputs": [
    {
     "data": {
      "text/plain": "Empty DataFrame\nColumns: [order_id, name, ordered_at, price, quantity, line_total]\nIndex: []",
      "text/html": "<div>\n<style scoped>\n    .dataframe tbody tr th:only-of-type {\n        vertical-align: middle;\n    }\n\n    .dataframe tbody tr th {\n        vertical-align: top;\n    }\n\n    .dataframe thead th {\n        text-align: right;\n    }\n</style>\n<table border=\"1\" class=\"dataframe\">\n  <thead>\n    <tr style=\"text-align: right;\">\n      <th></th>\n      <th>order_id</th>\n      <th>name</th>\n      <th>ordered_at</th>\n      <th>price</th>\n      <th>quantity</th>\n      <th>line_total</th>\n    </tr>\n  </thead>\n  <tbody>\n  </tbody>\n</table>\n</div>"
     },
     "metadata": {},
     "output_type": "execute_result",
     "execution_count": 191
    }
   ],
   "source": [
    "df[df['name'].isnull()].head()"
   ],
   "metadata": {
    "collapsed": false,
    "pycharm": {
     "name": "#%%\n",
     "is_executing": false
    }
   }
  },
  {
   "cell_type": "markdown",
   "metadata": {},
   "source": [
    "#### Sanity check for value ranges and to check assumptions"
   ]
  },
  {
   "cell_type": "code",
   "execution_count": 192,
   "metadata": {
    "pycharm": {
     "is_executing": false
    }
   },
   "outputs": [
    {
     "data": {
      "text/plain": "28"
     },
     "metadata": {},
     "output_type": "execute_result",
     "execution_count": 192
    }
   ],
   "source": [
    "df[(df['price'] * df['quantity']) != df['line_total']].shape[0]"
   ]
  },
  {
   "cell_type": "code",
   "execution_count": 193,
   "metadata": {
    "pycharm": {
     "is_executing": false
    }
   },
   "outputs": [
    {
     "data": {
      "text/plain": "279"
     },
     "metadata": {},
     "output_type": "execute_result",
     "execution_count": 193
    }
   ],
   "source": [
    "df[df['line_total'] < 0].shape[0]"
   ]
  },
  {
   "cell_type": "markdown",
   "metadata": {},
   "source": [
    "#### TODO: \n",
    "Set line_total = price * quantity if different\n",
    "Remove if line total < 0"
   ]
  },
  {
   "cell_type": "code",
   "execution_count": 194,
   "metadata": {
    "pycharm": {
     "is_executing": false
    }
   },
   "outputs": [],
   "source": [
    "df['line_total'] = df['price'] * df['quantity']"
   ]
  },
  {
   "cell_type": "code",
   "execution_count": 195,
   "metadata": {
    "pycharm": {
     "is_executing": false
    }
   },
   "outputs": [
    {
     "data": {
      "text/plain": "0        10.5\n1         3.5\n2         5.0\n4         3.5\n5         3.0\n7         1.5\n8         4.5\n9         5.0\n10        2.5\n11        3.0\n12        9.0\n13        4.5\n14        5.0\n15        3.0\n16        8.0\n17        0.5\n18        2.5\n19        6.0\n20        3.0\n21        4.0\n22        7.0\n23        7.5\n24       10.5\n25        3.0\n26        5.0\n28       -3.0\n29        5.0\n30        2.5\n31        1.0\n32        7.5\n         ... \n29789     3.5\n29790     7.0\n29791     4.0\n29792     8.0\n29793    12.0\n29794     1.5\n29795     8.0\n29796     1.5\n29797     1.5\n29798     2.5\n29799    12.0\n29800     3.5\n29801     1.5\n29803     3.5\n29805     2.5\n29806     4.5\n29807     7.0\n29808     0.5\n29810     1.5\n29811     5.0\n29812     7.5\n29813    10.5\n29814     3.5\n29815     4.0\n29816     7.0\n29817    12.0\n29818     7.5\n29819     3.0\n29820     3.5\n29821     5.0\nName: line_total, Length: 27903, dtype: float64"
     },
     "metadata": {},
     "output_type": "execute_result",
     "execution_count": 195
    }
   ],
   "source": [
    "df['line_total']\n",
    "# df = df[df['line_total'] < 0]"
   ]
  },
  {
   "cell_type": "code",
   "execution_count": 196,
   "metadata": {
    "pycharm": {
     "is_executing": false
    }
   },
   "outputs": [
    {
     "data": {
      "text/plain": "           order_id         price      quantity    line_total\ncount  27903.000000  27903.000000  27903.000000  27903.000000\nmean   14992.452675      2.461044      2.001039      4.925384\nstd     2889.735987      1.173305      0.819074      3.253986\nmin    10000.000000     -4.000000      1.000000    -12.000000\n25%    12496.000000      1.500000      1.000000      2.500000\n50%    14972.000000      2.500000      2.000000      4.000000\n75%    17508.500000      3.500000      3.000000      7.500000\nmax    19999.000000      4.000000      3.000000     12.000000",
      "text/html": "<div>\n<style scoped>\n    .dataframe tbody tr th:only-of-type {\n        vertical-align: middle;\n    }\n\n    .dataframe tbody tr th {\n        vertical-align: top;\n    }\n\n    .dataframe thead th {\n        text-align: right;\n    }\n</style>\n<table border=\"1\" class=\"dataframe\">\n  <thead>\n    <tr style=\"text-align: right;\">\n      <th></th>\n      <th>order_id</th>\n      <th>price</th>\n      <th>quantity</th>\n      <th>line_total</th>\n    </tr>\n  </thead>\n  <tbody>\n    <tr>\n      <th>count</th>\n      <td>27903.000000</td>\n      <td>27903.000000</td>\n      <td>27903.000000</td>\n      <td>27903.000000</td>\n    </tr>\n    <tr>\n      <th>mean</th>\n      <td>14992.452675</td>\n      <td>2.461044</td>\n      <td>2.001039</td>\n      <td>4.925384</td>\n    </tr>\n    <tr>\n      <th>std</th>\n      <td>2889.735987</td>\n      <td>1.173305</td>\n      <td>0.819074</td>\n      <td>3.253986</td>\n    </tr>\n    <tr>\n      <th>min</th>\n      <td>10000.000000</td>\n      <td>-4.000000</td>\n      <td>1.000000</td>\n      <td>-12.000000</td>\n    </tr>\n    <tr>\n      <th>25%</th>\n      <td>12496.000000</td>\n      <td>1.500000</td>\n      <td>1.000000</td>\n      <td>2.500000</td>\n    </tr>\n    <tr>\n      <th>50%</th>\n      <td>14972.000000</td>\n      <td>2.500000</td>\n      <td>2.000000</td>\n      <td>4.000000</td>\n    </tr>\n    <tr>\n      <th>75%</th>\n      <td>17508.500000</td>\n      <td>3.500000</td>\n      <td>3.000000</td>\n      <td>7.500000</td>\n    </tr>\n    <tr>\n      <th>max</th>\n      <td>19999.000000</td>\n      <td>4.000000</td>\n      <td>3.000000</td>\n      <td>12.000000</td>\n    </tr>\n  </tbody>\n</table>\n</div>"
     },
     "metadata": {},
     "output_type": "execute_result",
     "execution_count": 196
    }
   ],
   "source": [
    "df.describe()"
   ]
  },
  {
   "cell_type": "markdown",
   "metadata": {},
   "source": [
    "#### TODO: Get value between \"\" in name and put it in category column"
   ]
  },
  {
   "cell_type": "code",
   "execution_count": 196,
   "metadata": {
    "pycharm": {
     "is_executing": false
    }
   },
   "outputs": [],
   "source": []
  },
  {
   "cell_type": "code",
   "execution_count": 197,
   "metadata": {
    "pycharm": {
     "is_executing": false
    }
   },
   "outputs": [
    {
     "data": {
      "text/plain": "   order_id                       name          ordered_at  price  quantity  \\\n0     10000   \"ICE CREAM\" Peanut Fudge 2018-01-01 11:30:00    3.5         3   \n1     10000   \"ICE CREAM\" Peanut Fudge 2018-01-01 11:30:00    3.5         1   \n2     10001         \"SORBET\" Raspberry 2018-01-01 12:14:54    2.5         2   \n4     10001  \"CONE\" Dipped Waffle Cone 2018-01-01 12:14:54    3.5         1   \n5     10002            \"SORBET\" Lychee 2018-01-01 12:23:09    3.0         1   \n\n   line_total  \n0        10.5  \n1         3.5  \n2         5.0  \n4         3.5  \n5         3.0  ",
      "text/html": "<div>\n<style scoped>\n    .dataframe tbody tr th:only-of-type {\n        vertical-align: middle;\n    }\n\n    .dataframe tbody tr th {\n        vertical-align: top;\n    }\n\n    .dataframe thead th {\n        text-align: right;\n    }\n</style>\n<table border=\"1\" class=\"dataframe\">\n  <thead>\n    <tr style=\"text-align: right;\">\n      <th></th>\n      <th>order_id</th>\n      <th>name</th>\n      <th>ordered_at</th>\n      <th>price</th>\n      <th>quantity</th>\n      <th>line_total</th>\n    </tr>\n  </thead>\n  <tbody>\n    <tr>\n      <th>0</th>\n      <td>10000</td>\n      <td>\"ICE CREAM\" Peanut Fudge</td>\n      <td>2018-01-01 11:30:00</td>\n      <td>3.5</td>\n      <td>3</td>\n      <td>10.5</td>\n    </tr>\n    <tr>\n      <th>1</th>\n      <td>10000</td>\n      <td>\"ICE CREAM\" Peanut Fudge</td>\n      <td>2018-01-01 11:30:00</td>\n      <td>3.5</td>\n      <td>1</td>\n      <td>3.5</td>\n    </tr>\n    <tr>\n      <th>2</th>\n      <td>10001</td>\n      <td>\"SORBET\" Raspberry</td>\n      <td>2018-01-01 12:14:54</td>\n      <td>2.5</td>\n      <td>2</td>\n      <td>5.0</td>\n    </tr>\n    <tr>\n      <th>4</th>\n      <td>10001</td>\n      <td>\"CONE\" Dipped Waffle Cone</td>\n      <td>2018-01-01 12:14:54</td>\n      <td>3.5</td>\n      <td>1</td>\n      <td>3.5</td>\n    </tr>\n    <tr>\n      <th>5</th>\n      <td>10002</td>\n      <td>\"SORBET\" Lychee</td>\n      <td>2018-01-01 12:23:09</td>\n      <td>3.0</td>\n      <td>1</td>\n      <td>3.0</td>\n    </tr>\n  </tbody>\n</table>\n</div>"
     },
     "metadata": {},
     "output_type": "execute_result",
     "execution_count": 197
    }
   ],
   "source": [
    "df.head()"
   ]
  },
  {
   "cell_type": "markdown",
   "metadata": {},
   "source": [
    "#### Analysis, finally!"
   ]
  },
  {
   "cell_type": "code",
   "execution_count": 198,
   "metadata": {
    "pycharm": {
     "is_executing": false
    }
   },
   "outputs": [
    {
     "data": {
      "text/plain": "<Figure size 720x432 with 1 Axes>",
      "image/png": "[encoded data removed]"
     },
     "metadata": {
      "needs_background": "light"
     },
     "output_type": "display_data"
    }
   ],
   "source": [
    "f, ax = plt.subplots(figsize=(10, 6))\n",
    "df.groupby('name')['line_total'].sum().sort_values(ascending=False).head(10).plot(kind='bar')\n",
    "f.autofmt_xdate()\n",
    "plt.show()"
   ]
  }
 ],
 "metadata": {
  "kernelspec": {
   "display_name": "Python 3",
   "language": "python",
   "name": "python3"
  },
  "language_info": {
   "codemirror_mode": {
    "name": "ipython",
    "version": 3
   },
   "file_extension": ".py",
   "mimetype": "text/x-python",
   "name": "python",
   "nbconvert_exporter": "python",
   "pygments_lexer": "ipython3",
   "version": "3.7.3"
  },
  "pycharm": {
   "stem_cell": {
    "cell_type": "raw",
    "source": [],
    "metadata": {
     "collapsed": false
    }
   }
  }
 },
 "nbformat": 4,
 "nbformat_minor": 2
}