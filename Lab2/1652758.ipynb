{
 "cells": [
  {
   "cell_type": "markdown",
   "metadata": {},
   "source": [
    "Do the following exercise.\n",
    "\n",
    "1) Clone https://github.com/adamnguyenitvn/bigdata_labs_2019\n",
    "\n",
    "2) Open sales.ipynb\n",
    "\n",
    "3) Make a copy of sales.ipynb, name it with your student ID\n",
    "\n",
    "4) Do the exercise\n",
    "\n",
    "5) Write your github username here http://socrates.io/#KFCbqAn  . We will add you to the repos for push permission\n",
    "\n",
    "6) Check your email for github invitation\n",
    "\n",
    "7) Push your Jupyter notebook to github"
   ]
  },
  {
   "cell_type": "code",
   "execution_count": 246,
   "metadata": {
    "pycharm": {
     "is_executing": false
    }
   },
   "outputs": [],
   "source": [
    "import pandas as pd\n",
    "import matplotlib.pyplot as plt\n",
    "import seaborn\n",
    "import re"
   ]
  },
  {
   "cell_type": "markdown",
   "metadata": {},
   "source": [
    "#### Import the data and get a high-level picture"
   ]
  },
  {
   "cell_type": "code",
   "execution_count": 247,
   "metadata": {
    "pycharm": {
     "is_executing": false
    }
   },
   "outputs": [
    {
     "data": {
      "text/plain": "   order_id                       name           ordered_at  price  quantity  \\\n0     10000   \"ICE CREAM\" Peanut Fudge  2018-01-01 11:30:00  $3.50         3   \n1     10000   \"ICE CREAM\" Peanut Fudge  2018-01-01 11:30:00  $3.50         1   \n2     10001         \"SORBET\" Raspberry  2018-01-01 12:14:54  $2.50         2   \n3     10001                        NaN  2018-01-01 12:14:54  $1.50         1   \n4     10001  \"CONE\" Dipped Waffle Cone  2018-01-01 12:14:54  $3.50         1   \n\n  line_total  \n0     $10.50  \n1      $3.50  \n2      $5.00  \n3      $1.50  \n4      $3.50  ",
      "text/html": "<div>\n<style scoped>\n    .dataframe tbody tr th:only-of-type {\n        vertical-align: middle;\n    }\n\n    .dataframe tbody tr th {\n        vertical-align: top;\n    }\n\n    .dataframe thead th {\n        text-align: right;\n    }\n</style>\n<table border=\"1\" class=\"dataframe\">\n  <thead>\n    <tr style=\"text-align: right;\">\n      <th></th>\n      <th>order_id</th>\n      <th>name</th>\n      <th>ordered_at</th>\n      <th>price</th>\n      <th>quantity</th>\n      <th>line_total</th>\n    </tr>\n  </thead>\n  <tbody>\n    <tr>\n      <th>0</th>\n      <td>10000</td>\n      <td>\"ICE CREAM\" Peanut Fudge</td>\n      <td>2018-01-01 11:30:00</td>\n      <td>$3.50</td>\n      <td>3</td>\n      <td>$10.50</td>\n    </tr>\n    <tr>\n      <th>1</th>\n      <td>10000</td>\n      <td>\"ICE CREAM\" Peanut Fudge</td>\n      <td>2018-01-01 11:30:00</td>\n      <td>$3.50</td>\n      <td>1</td>\n      <td>$3.50</td>\n    </tr>\n    <tr>\n      <th>2</th>\n      <td>10001</td>\n      <td>\"SORBET\" Raspberry</td>\n      <td>2018-01-01 12:14:54</td>\n      <td>$2.50</td>\n      <td>2</td>\n      <td>$5.00</td>\n    </tr>\n    <tr>\n      <th>3</th>\n      <td>10001</td>\n      <td>NaN</td>\n      <td>2018-01-01 12:14:54</td>\n      <td>$1.50</td>\n      <td>1</td>\n      <td>$1.50</td>\n    </tr>\n    <tr>\n      <th>4</th>\n      <td>10001</td>\n      <td>\"CONE\" Dipped Waffle Cone</td>\n      <td>2018-01-01 12:14:54</td>\n      <td>$3.50</td>\n      <td>1</td>\n      <td>$3.50</td>\n    </tr>\n  </tbody>\n</table>\n</div>"
     },
     "metadata": {},
     "output_type": "execute_result",
     "execution_count": 247
    }
   ],
   "source": [
    "df = pd.read_csv('sales.csv')\n",
    "df.head()"
   ]
  },
  {
   "cell_type": "code",
   "execution_count": 248,
   "metadata": {
    "pycharm": {
     "is_executing": false
    }
   },
   "outputs": [
    {
     "data": {
      "text/plain": "(29922, 6)"
     },
     "metadata": {},
     "output_type": "execute_result",
     "execution_count": 248
    }
   ],
   "source": [
    "df.shape"
   ]
  },
  {
   "cell_type": "code",
   "execution_count": 249,
   "metadata": {
    "pycharm": {
     "is_executing": false
    }
   },
   "outputs": [
    {
     "data": {
      "text/plain": "order_id       int64\nname          object\nordered_at    object\nprice         object\nquantity       int64\nline_total    object\ndtype: object"
     },
     "metadata": {},
     "output_type": "execute_result",
     "execution_count": 249
    }
   ],
   "source": [
    "df.dtypes"
   ]
  },
  {
   "cell_type": "markdown",
   "metadata": {},
   "source": [
    "#### TODO: Fix column datatypes\n",
    "\n",
    "Change ordered_at to datetime\n",
    "\n",
    "Change price and line_total to float"
   ]
  },
  {
   "cell_type": "code",
   "execution_count": 250,
   "metadata": {
    "pycharm": {
     "is_executing": false
    }
   },
   "outputs": [],
   "source": [
    "df['ordered_at'] = pd.to_datetime(df['ordered_at'])"
   ]
  },
  {
   "cell_type": "code",
   "execution_count": 251,
   "metadata": {
    "pycharm": {
     "is_executing": false
    }
   },
   "outputs": [],
   "source": [
    "def to_float(num_with_currency):\n",
    "    return float(num_with_currency[1:])\n",
    "\n",
    "df['price'] = df['price'].apply(to_float)\n",
    "df['line_total'] = df['line_total'].apply(to_float)"
   ]
  },
  {
   "cell_type": "code",
   "execution_count": 252,
   "metadata": {
    "pycharm": {
     "is_executing": false
    }
   },
   "outputs": [
    {
     "data": {
      "text/plain": "order_id               int64\nname                  object\nordered_at    datetime64[ns]\nprice                float64\nquantity               int64\nline_total           float64\ndtype: object"
     },
     "metadata": {},
     "output_type": "execute_result",
     "execution_count": 252
    }
   ],
   "source": [
    "df.dtypes"
   ]
  },
  {
   "cell_type": "markdown",
   "metadata": {},
   "source": [
    "#### TODO: drop if duplicated or null"
   ]
  },
  {
   "cell_type": "code",
   "execution_count": 253,
   "metadata": {
    "pycharm": {
     "is_executing": false
    }
   },
   "outputs": [],
   "source": [
    "df.drop_duplicates(inplace=True)"
   ]
  },
  {
   "cell_type": "code",
   "execution_count": 254,
   "outputs": [
    {
     "data": {
      "text/plain": "0"
     },
     "metadata": {},
     "output_type": "execute_result",
     "execution_count": 254
    }
   ],
   "source": [
    "df[df.duplicated()].shape[0]"
   ],
   "metadata": {
    "collapsed": false,
    "pycharm": {
     "name": "#%%\n",
     "is_executing": false
    }
   }
  },
  {
   "cell_type": "code",
   "execution_count": 255,
   "outputs": [],
   "source": [
    "df.dropna(inplace=True)"
   ],
   "metadata": {
    "collapsed": false,
    "pycharm": {
     "name": "#%%\n",
     "is_executing": false
    }
   }
  },
  {
   "cell_type": "code",
   "execution_count": 256,
   "outputs": [
    {
     "data": {
      "text/plain": "order_id      0\nname          0\nordered_at    0\nprice         0\nquantity      0\nline_total    0\ndtype: int64"
     },
     "metadata": {},
     "output_type": "execute_result",
     "execution_count": 256
    }
   ],
   "source": [
    "df.isnull().sum()"
   ],
   "metadata": {
    "collapsed": false,
    "pycharm": {
     "name": "#%%\n",
     "is_executing": false
    }
   }
  },
  {
   "cell_type": "code",
   "execution_count": 257,
   "outputs": [
    {
     "data": {
      "text/plain": "Empty DataFrame\nColumns: [order_id, name, ordered_at, price, quantity, line_total]\nIndex: []",
      "text/html": "<div>\n<style scoped>\n    .dataframe tbody tr th:only-of-type {\n        vertical-align: middle;\n    }\n\n    .dataframe tbody tr th {\n        vertical-align: top;\n    }\n\n    .dataframe thead th {\n        text-align: right;\n    }\n</style>\n<table border=\"1\" class=\"dataframe\">\n  <thead>\n    <tr style=\"text-align: right;\">\n      <th></th>\n      <th>order_id</th>\n      <th>name</th>\n      <th>ordered_at</th>\n      <th>price</th>\n      <th>quantity</th>\n      <th>line_total</th>\n    </tr>\n  </thead>\n  <tbody>\n  </tbody>\n</table>\n</div>"
     },
     "metadata": {},
     "output_type": "execute_result",
     "execution_count": 257
    }
   ],
   "source": [
    "df[df['name'].isnull()].head()"
   ],
   "metadata": {
    "collapsed": false,
    "pycharm": {
     "name": "#%%\n",
     "is_executing": false
    }
   }
  },
  {
   "cell_type": "markdown",
   "metadata": {},
   "source": [
    "#### Sanity check for value ranges and to check assumptions"
   ]
  },
  {
   "cell_type": "code",
   "execution_count": 258,
   "metadata": {
    "pycharm": {
     "is_executing": false
    }
   },
   "outputs": [
    {
     "data": {
      "text/plain": "28"
     },
     "metadata": {},
     "output_type": "execute_result",
     "execution_count": 258
    }
   ],
   "source": [
    "df[(df['price'] * df['quantity']) != df['line_total']].shape[0]"
   ]
  },
  {
   "cell_type": "code",
   "execution_count": 259,
   "metadata": {
    "pycharm": {
     "is_executing": false
    }
   },
   "outputs": [
    {
     "data": {
      "text/plain": "279"
     },
     "metadata": {},
     "output_type": "execute_result",
     "execution_count": 259
    }
   ],
   "source": [
    "df[df['line_total'] < 0].shape[0]"
   ]
  },
  {
   "cell_type": "markdown",
   "metadata": {},
   "source": [
    "#### TODO: \n",
    "Set line_total = price * quantity if different\n",
    "Remove if line total < 0"
   ]
  },
  {
   "cell_type": "code",
   "execution_count": 260,
   "metadata": {
    "pycharm": {
     "is_executing": false
    }
   },
   "outputs": [],
   "source": [
    "df['line_total'] = df['price'] * df['quantity']"
   ]
  },
  {
   "cell_type": "code",
   "execution_count": 261,
   "metadata": {
    "pycharm": {
     "is_executing": false
    }
   },
   "outputs": [],
   "source": [
    "df = df[df['line_total'] > 0]"
   ]
  },
  {
   "cell_type": "code",
   "execution_count": 262,
   "metadata": {
    "pycharm": {
     "is_executing": false
    }
   },
   "outputs": [
    {
     "data": {
      "text/plain": "           order_id         price      quantity    line_total\ncount  27624.000000  27624.000000  27624.000000  27624.000000\nmean   14993.783051      2.511711      2.000724      5.028743\nstd     2888.516649      1.059244      0.819432      3.085410\nmin    10000.000000      0.500000      1.000000      0.500000\n25%    12501.750000      1.500000      1.000000      2.500000\n50%    14973.000000      2.500000      2.000000      4.500000\n75%    17507.000000      3.500000      3.000000      7.500000\nmax    19999.000000      4.000000      3.000000     12.000000",
      "text/html": "<div>\n<style scoped>\n    .dataframe tbody tr th:only-of-type {\n        vertical-align: middle;\n    }\n\n    .dataframe tbody tr th {\n        vertical-align: top;\n    }\n\n    .dataframe thead th {\n        text-align: right;\n    }\n</style>\n<table border=\"1\" class=\"dataframe\">\n  <thead>\n    <tr style=\"text-align: right;\">\n      <th></th>\n      <th>order_id</th>\n      <th>price</th>\n      <th>quantity</th>\n      <th>line_total</th>\n    </tr>\n  </thead>\n  <tbody>\n    <tr>\n      <th>count</th>\n      <td>27624.000000</td>\n      <td>27624.000000</td>\n      <td>27624.000000</td>\n      <td>27624.000000</td>\n    </tr>\n    <tr>\n      <th>mean</th>\n      <td>14993.783051</td>\n      <td>2.511711</td>\n      <td>2.000724</td>\n      <td>5.028743</td>\n    </tr>\n    <tr>\n      <th>std</th>\n      <td>2888.516649</td>\n      <td>1.059244</td>\n      <td>0.819432</td>\n      <td>3.085410</td>\n    </tr>\n    <tr>\n      <th>min</th>\n      <td>10000.000000</td>\n      <td>0.500000</td>\n      <td>1.000000</td>\n      <td>0.500000</td>\n    </tr>\n    <tr>\n      <th>25%</th>\n      <td>12501.750000</td>\n      <td>1.500000</td>\n      <td>1.000000</td>\n      <td>2.500000</td>\n    </tr>\n    <tr>\n      <th>50%</th>\n      <td>14973.000000</td>\n      <td>2.500000</td>\n      <td>2.000000</td>\n      <td>4.500000</td>\n    </tr>\n    <tr>\n      <th>75%</th>\n      <td>17507.000000</td>\n      <td>3.500000</td>\n      <td>3.000000</td>\n      <td>7.500000</td>\n    </tr>\n    <tr>\n      <th>max</th>\n      <td>19999.000000</td>\n      <td>4.000000</td>\n      <td>3.000000</td>\n      <td>12.000000</td>\n    </tr>\n  </tbody>\n</table>\n</div>"
     },
     "metadata": {},
     "output_type": "execute_result",
     "execution_count": 262
    }
   ],
   "source": [
    "df.describe()"
   ]
  },
  {
   "cell_type": "markdown",
   "metadata": {},
   "source": [
    "#### TODO: Get value between \"\" in name and put it in category column"
   ]
  },
  {
   "cell_type": "code",
   "execution_count": 263,
   "metadata": {
    "pycharm": {
     "is_executing": false
    }
   },
   "outputs": [],
   "source": [
    "def extract_category(name):\n",
    "    pattern = re.compile(r'\"[A-Za-z0-9_\\W]+\"')\n",
    "    return re.search(pattern, name).group(0)[1:-1]\n",
    "    \n",
    "    \n",
    "df['category'] = df['name'].apply(extract_category)"
   ]
  },
  {
   "cell_type": "code",
   "execution_count": 264,
   "metadata": {
    "pycharm": {
     "is_executing": false
    }
   },
   "outputs": [
    {
     "data": {
      "text/plain": "   order_id                       name          ordered_at  price  quantity  \\\n0     10000   \"ICE CREAM\" Peanut Fudge 2018-01-01 11:30:00    3.5         3   \n1     10000   \"ICE CREAM\" Peanut Fudge 2018-01-01 11:30:00    3.5         1   \n2     10001         \"SORBET\" Raspberry 2018-01-01 12:14:54    2.5         2   \n4     10001  \"CONE\" Dipped Waffle Cone 2018-01-01 12:14:54    3.5         1   \n5     10002            \"SORBET\" Lychee 2018-01-01 12:23:09    3.0         1   \n\n   line_total   category  \n0        10.5  ICE CREAM  \n1         3.5  ICE CREAM  \n2         5.0     SORBET  \n4         3.5       CONE  \n5         3.0     SORBET  ",
      "text/html": "<div>\n<style scoped>\n    .dataframe tbody tr th:only-of-type {\n        vertical-align: middle;\n    }\n\n    .dataframe tbody tr th {\n        vertical-align: top;\n    }\n\n    .dataframe thead th {\n        text-align: right;\n    }\n</style>\n<table border=\"1\" class=\"dataframe\">\n  <thead>\n    <tr style=\"text-align: right;\">\n      <th></th>\n      <th>order_id</th>\n      <th>name</th>\n      <th>ordered_at</th>\n      <th>price</th>\n      <th>quantity</th>\n      <th>line_total</th>\n      <th>category</th>\n    </tr>\n  </thead>\n  <tbody>\n    <tr>\n      <th>0</th>\n      <td>10000</td>\n      <td>\"ICE CREAM\" Peanut Fudge</td>\n      <td>2018-01-01 11:30:00</td>\n      <td>3.5</td>\n      <td>3</td>\n      <td>10.5</td>\n      <td>ICE CREAM</td>\n    </tr>\n    <tr>\n      <th>1</th>\n      <td>10000</td>\n      <td>\"ICE CREAM\" Peanut Fudge</td>\n      <td>2018-01-01 11:30:00</td>\n      <td>3.5</td>\n      <td>1</td>\n      <td>3.5</td>\n      <td>ICE CREAM</td>\n    </tr>\n    <tr>\n      <th>2</th>\n      <td>10001</td>\n      <td>\"SORBET\" Raspberry</td>\n      <td>2018-01-01 12:14:54</td>\n      <td>2.5</td>\n      <td>2</td>\n      <td>5.0</td>\n      <td>SORBET</td>\n    </tr>\n    <tr>\n      <th>4</th>\n      <td>10001</td>\n      <td>\"CONE\" Dipped Waffle Cone</td>\n      <td>2018-01-01 12:14:54</td>\n      <td>3.5</td>\n      <td>1</td>\n      <td>3.5</td>\n      <td>CONE</td>\n    </tr>\n    <tr>\n      <th>5</th>\n      <td>10002</td>\n      <td>\"SORBET\" Lychee</td>\n      <td>2018-01-01 12:23:09</td>\n      <td>3.0</td>\n      <td>1</td>\n      <td>3.0</td>\n      <td>SORBET</td>\n    </tr>\n  </tbody>\n</table>\n</div>"
     },
     "metadata": {},
     "output_type": "execute_result",
     "execution_count": 264
    }
   ],
   "source": [
    "df.head()"
   ]
  },
  {
   "cell_type": "markdown",
   "metadata": {},
   "source": [
    "#### Analysis, finally!"
   ]
  },
  {
   "cell_type": "code",
   "execution_count": 265,
   "metadata": {
    "pycharm": {
     "is_executing": false
    }
   },
   "outputs": [
    {
     "data": {
      "text/plain": "<Figure size 720x432 with 1 Axes>",
      "image/png": "[encoded data removed]"
     },
     "metadata": {
      "needs_background": "light"
     },
     "output_type": "display_data"
    }
   ],
   "source": [
    "f, ax = plt.subplots(figsize=(10, 6))\n",
    "df.groupby('name')['line_total'].sum().sort_values(ascending=False).head(10).plot(kind='bar')\n",
    "f.autofmt_xdate()\n",
    "plt.show()"
   ]
  }
 ],
 "metadata": {
  "kernelspec": {
   "display_name": "Python 3",
   "language": "python",
   "name": "python3"
  },
  "language_info": {
   "codemirror_mode": {
    "name": "ipython",
    "version": 3
   },
   "file_extension": ".py",
   "mimetype": "text/x-python",
   "name": "python",
   "nbconvert_exporter": "python",
   "pygments_lexer": "ipython3",
   "version": "3.7.3"
  },
  "pycharm": {
   "stem_cell": {
    "cell_type": "raw",
    "source": [],
    "metadata": {
     "collapsed": false
    }
   }
  }
 },
 "nbformat": 4,
 "nbformat_minor": 2
}