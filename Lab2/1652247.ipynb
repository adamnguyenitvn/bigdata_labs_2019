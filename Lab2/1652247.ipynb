{
  "nbformat": 4,
  "nbformat_minor": 0,
  "metadata": {
    "kernelspec": {
      "display_name": "Python 3",
      "language": "python",
      "name": "python3"
    },
    "language_info": {
      "codemirror_mode": {
        "name": "ipython",
        "version": 3
      },
      "file_extension": ".py",
      "mimetype": "text/x-python",
      "name": "python",
      "nbconvert_exporter": "python",
      "pygments_lexer": "ipython3",
      "version": "3.6.5"
    },
    "colab": {
      "name": "sales.ipynb",
      "provenance": [],
      "collapsed_sections": [],
      "toc_visible": true
    }
  },
  "cells": [
    {
      "cell_type": "markdown",
      "metadata": {
        "id": "xxu0PTB7lJGy",
        "colab_type": "text"
      },
      "source": [
        "Do the following exercise.\n",
        "\n",
        "1) Clone https://github.com/adamnguyenitvn/bigdata_labs_2019\n",
        "\n",
        "2) Open sales.ipynb\n",
        "\n",
        "3) Make a copy of sales.ipynb, name it with your student ID\n",
        "\n",
        "4) Do the exercise\n",
        "\n",
        "5) Write your github username here http://socrates.io/#KFCbqAn  . We will add you to the repos for push permission\n",
        "\n",
        "6) Check your email for github invitation\n",
        "\n",
        "7) Push your Jupyter notebook to github"
      ]
    },
    {
      "cell_type": "code",
      "metadata": {
        "id": "w4FjZ3pxlJG6",
        "colab_type": "code",
        "colab": {}
      },
      "source": [
        "import pandas as pd\n",
        "import matplotlib.pyplot as plt\n",
        "import seaborn\n",
        "import re"
      ],
      "execution_count": 0,
      "outputs": []
    },
    {
      "cell_type": "markdown",
      "metadata": {
        "id": "CA8TqXtmlJHF",
        "colab_type": "text"
      },
      "source": [
        "#### Import the data and get a high-level picture"
      ]
    },
    {
      "cell_type": "code",
      "metadata": {
        "id": "jfodf9iclJHI",
        "colab_type": "code",
        "colab": {
          "base_uri": "https://localhost:8080/",
          "height": 204
        },
        "outputId": "c9288c6e-7415-480a-9d87-9c837ce5dacb"
      },
      "source": [
        "df = pd.read_csv('sales.csv')\n",
        "df.head()"
      ],
      "execution_count": 13,
      "outputs": [
        {
          "output_type": "execute_result",
          "data": {
            "text/html": [
              "<div>\n",
              "<style scoped>\n",
              "    .dataframe tbody tr th:only-of-type {\n",
              "        vertical-align: middle;\n",
              "    }\n",
              "\n",
              "    .dataframe tbody tr th {\n",
              "        vertical-align: top;\n",
              "    }\n",
              "\n",
              "    .dataframe thead th {\n",
              "        text-align: right;\n",
              "    }\n",
              "</style>\n",
              "<table border=\"1\" class=\"dataframe\">\n",
              "  <thead>\n",
              "    <tr style=\"text-align: right;\">\n",
              "      <th></th>\n",
              "      <th>order_id</th>\n",
              "      <th>name</th>\n",
              "      <th>ordered_at</th>\n",
              "      <th>price</th>\n",
              "      <th>quantity</th>\n",
              "      <th>line_total</th>\n",
              "    </tr>\n",
              "  </thead>\n",
              "  <tbody>\n",
              "    <tr>\n",
              "      <th>0</th>\n",
              "      <td>10000</td>\n",
              "      <td>\"ICE CREAM\" Peanut Fudge</td>\n",
              "      <td>2018-01-01 11:30:00</td>\n",
              "      <td>$3.50</td>\n",
              "      <td>3</td>\n",
              "      <td>$10.50</td>\n",
              "    </tr>\n",
              "    <tr>\n",
              "      <th>1</th>\n",
              "      <td>10000</td>\n",
              "      <td>\"ICE CREAM\" Peanut Fudge</td>\n",
              "      <td>2018-01-01 11:30:00</td>\n",
              "      <td>$3.50</td>\n",
              "      <td>1</td>\n",
              "      <td>$3.50</td>\n",
              "    </tr>\n",
              "    <tr>\n",
              "      <th>2</th>\n",
              "      <td>10001</td>\n",
              "      <td>\"SORBET\" Raspberry</td>\n",
              "      <td>2018-01-01 12:14:54</td>\n",
              "      <td>$2.50</td>\n",
              "      <td>2</td>\n",
              "      <td>$5.00</td>\n",
              "    </tr>\n",
              "    <tr>\n",
              "      <th>3</th>\n",
              "      <td>10001</td>\n",
              "      <td>NaN</td>\n",
              "      <td>2018-01-01 12:14:54</td>\n",
              "      <td>$1.50</td>\n",
              "      <td>1</td>\n",
              "      <td>$1.50</td>\n",
              "    </tr>\n",
              "    <tr>\n",
              "      <th>4</th>\n",
              "      <td>10001</td>\n",
              "      <td>\"CONE\" Dipped Waffle Cone</td>\n",
              "      <td>2018-01-01 12:14:54</td>\n",
              "      <td>$3.50</td>\n",
              "      <td>1</td>\n",
              "      <td>$3.50</td>\n",
              "    </tr>\n",
              "  </tbody>\n",
              "</table>\n",
              "</div>"
            ],
            "text/plain": [
              "   order_id                       name  ... quantity line_total\n",
              "0     10000   \"ICE CREAM\" Peanut Fudge  ...        3     $10.50\n",
              "1     10000   \"ICE CREAM\" Peanut Fudge  ...        1      $3.50\n",
              "2     10001         \"SORBET\" Raspberry  ...        2      $5.00\n",
              "3     10001                        NaN  ...        1      $1.50\n",
              "4     10001  \"CONE\" Dipped Waffle Cone  ...        1      $3.50\n",
              "\n",
              "[5 rows x 6 columns]"
            ]
          },
          "metadata": {
            "tags": []
          },
          "execution_count": 13
        }
      ]
    },
    {
      "cell_type": "code",
      "metadata": {
        "id": "F8_lLDHHlJHQ",
        "colab_type": "code",
        "colab": {
          "base_uri": "https://localhost:8080/",
          "height": 34
        },
        "outputId": "ed76d370-0ea1-4c33-d9b5-bc65a413c525"
      },
      "source": [
        "df.shape"
      ],
      "execution_count": 3,
      "outputs": [
        {
          "output_type": "execute_result",
          "data": {
            "text/plain": [
              "(29922, 6)"
            ]
          },
          "metadata": {
            "tags": []
          },
          "execution_count": 3
        }
      ]
    },
    {
      "cell_type": "code",
      "metadata": {
        "id": "w8EiIpxNlJHY",
        "colab_type": "code",
        "colab": {
          "base_uri": "https://localhost:8080/",
          "height": 136
        },
        "outputId": "375ad151-d67d-4124-ae60-d059f5001065"
      },
      "source": [
        "df.dtypes"
      ],
      "execution_count": 4,
      "outputs": [
        {
          "output_type": "execute_result",
          "data": {
            "text/plain": [
              "order_id       int64\n",
              "name          object\n",
              "ordered_at    object\n",
              "price         object\n",
              "quantity       int64\n",
              "line_total    object\n",
              "dtype: object"
            ]
          },
          "metadata": {
            "tags": []
          },
          "execution_count": 4
        }
      ]
    },
    {
      "cell_type": "markdown",
      "metadata": {
        "id": "t8pBGl85lJHe",
        "colab_type": "text"
      },
      "source": [
        "#### TODO: Fix column datatypes\n",
        "\n",
        "Change ordered_at to datetime\n",
        "\n",
        "Change price and line_total to float"
      ]
    },
    {
      "cell_type": "code",
      "metadata": {
        "id": "o8drmHarlJHo",
        "colab_type": "code",
        "colab": {}
      },
      "source": [
        "import datetime\n",
        "def convert_datetime(txt):\n",
        "  return datetime.datetime.strptime(txt, '%Y-%m-%d %H:%M:%S')\n",
        "\n",
        "df['ordered_at'] = df['ordered_at'].apply(convert_datetime)"
      ],
      "execution_count": 0,
      "outputs": []
    },
    {
      "cell_type": "code",
      "metadata": {
        "id": "fSiHtxJ3lJHg",
        "colab_type": "code",
        "colab": {}
      },
      "source": [
        "def convert_float(txt):\n",
        "  return float(txt[1:])\n",
        "\n",
        "df['price'] = df['price'].apply(convert_float)\n",
        "df['line_total'] = df['line_total'].apply(convert_float)"
      ],
      "execution_count": 0,
      "outputs": []
    },
    {
      "cell_type": "code",
      "metadata": {
        "id": "MDBCdFHElJHt",
        "colab_type": "code",
        "colab": {
          "base_uri": "https://localhost:8080/",
          "height": 136
        },
        "outputId": "1876ef21-3afd-4a58-888b-830e31231e14"
      },
      "source": [
        "df.dtypes"
      ],
      "execution_count": 28,
      "outputs": [
        {
          "output_type": "execute_result",
          "data": {
            "text/plain": [
              "order_id               int64\n",
              "name                  object\n",
              "ordered_at    datetime64[ns]\n",
              "price                float64\n",
              "quantity               int64\n",
              "line_total           float64\n",
              "dtype: object"
            ]
          },
          "metadata": {
            "tags": []
          },
          "execution_count": 28
        }
      ]
    },
    {
      "cell_type": "markdown",
      "metadata": {
        "id": "YKytaUO8lJH1",
        "colab_type": "text"
      },
      "source": [
        "#### TODO: drop if duplicated or null"
      ]
    },
    {
      "cell_type": "code",
      "metadata": {
        "id": "_t7T5MYAlJH_",
        "colab_type": "code",
        "colab": {}
      },
      "source": [
        "df = df.drop_duplicates()\n",
        "df = df.dropna()"
      ],
      "execution_count": 0,
      "outputs": []
    },
    {
      "cell_type": "code",
      "metadata": {
        "id": "943pZ6O2lJH4",
        "colab_type": "code",
        "colab": {
          "base_uri": "https://localhost:8080/",
          "height": 34
        },
        "outputId": "92b70985-c961-43b8-e0d0-5a68dff71642"
      },
      "source": [
        "df[df.duplicated()].shape[0]"
      ],
      "execution_count": 26,
      "outputs": [
        {
          "output_type": "execute_result",
          "data": {
            "text/plain": [
              "0"
            ]
          },
          "metadata": {
            "tags": []
          },
          "execution_count": 26
        }
      ]
    },
    {
      "cell_type": "code",
      "metadata": {
        "id": "T9mrth2TlJIE",
        "colab_type": "code",
        "colab": {
          "base_uri": "https://localhost:8080/",
          "height": 136
        },
        "outputId": "f915936a-c61f-4fbd-ede4-5e9b1c655dee"
      },
      "source": [
        "df.isnull().sum()"
      ],
      "execution_count": 25,
      "outputs": [
        {
          "output_type": "execute_result",
          "data": {
            "text/plain": [
              "order_id      0\n",
              "name          0\n",
              "ordered_at    0\n",
              "price         0\n",
              "quantity      0\n",
              "line_total    0\n",
              "dtype: int64"
            ]
          },
          "metadata": {
            "tags": []
          },
          "execution_count": 25
        }
      ]
    },
    {
      "cell_type": "code",
      "metadata": {
        "id": "lbOoTQEOlJIO",
        "colab_type": "code",
        "colab": {
          "base_uri": "https://localhost:8080/",
          "height": 49
        },
        "outputId": "3db5273f-2a56-4aee-f308-ce5984f1f2d6"
      },
      "source": [
        "df[df['name'].isnull()].head()"
      ],
      "execution_count": 27,
      "outputs": [
        {
          "output_type": "execute_result",
          "data": {
            "text/html": [
              "<div>\n",
              "<style scoped>\n",
              "    .dataframe tbody tr th:only-of-type {\n",
              "        vertical-align: middle;\n",
              "    }\n",
              "\n",
              "    .dataframe tbody tr th {\n",
              "        vertical-align: top;\n",
              "    }\n",
              "\n",
              "    .dataframe thead th {\n",
              "        text-align: right;\n",
              "    }\n",
              "</style>\n",
              "<table border=\"1\" class=\"dataframe\">\n",
              "  <thead>\n",
              "    <tr style=\"text-align: right;\">\n",
              "      <th></th>\n",
              "      <th>order_id</th>\n",
              "      <th>name</th>\n",
              "      <th>ordered_at</th>\n",
              "      <th>price</th>\n",
              "      <th>quantity</th>\n",
              "      <th>line_total</th>\n",
              "    </tr>\n",
              "  </thead>\n",
              "  <tbody>\n",
              "  </tbody>\n",
              "</table>\n",
              "</div>"
            ],
            "text/plain": [
              "Empty DataFrame\n",
              "Columns: [order_id, name, ordered_at, price, quantity, line_total]\n",
              "Index: []"
            ]
          },
          "metadata": {
            "tags": []
          },
          "execution_count": 27
        }
      ]
    },
    {
      "cell_type": "code",
      "metadata": {
        "id": "NpI7VwGylJIV",
        "colab_type": "code",
        "colab": {}
      },
      "source": [
        ""
      ],
      "execution_count": 0,
      "outputs": []
    },
    {
      "cell_type": "markdown",
      "metadata": {
        "id": "tf9rtxjzlJIb",
        "colab_type": "text"
      },
      "source": [
        "#### Sanity check for value ranges and to check assumptions"
      ]
    },
    {
      "cell_type": "code",
      "metadata": {
        "id": "k8-U34ktlJId",
        "colab_type": "code",
        "colab": {
          "base_uri": "https://localhost:8080/",
          "height": 34
        },
        "outputId": "3be7ced1-9071-4756-b363-ecff17523f0b"
      },
      "source": [
        "df[(df['price'] * df['quantity']) != df['line_total']].shape[0]"
      ],
      "execution_count": 29,
      "outputs": [
        {
          "output_type": "execute_result",
          "data": {
            "text/plain": [
              "28"
            ]
          },
          "metadata": {
            "tags": []
          },
          "execution_count": 29
        }
      ]
    },
    {
      "cell_type": "code",
      "metadata": {
        "id": "9iPk5M6flJIk",
        "colab_type": "code",
        "colab": {
          "base_uri": "https://localhost:8080/",
          "height": 34
        },
        "outputId": "d7716a90-4147-4641-8ed7-043bea580fc8"
      },
      "source": [
        "df[df['line_total'] < 0].shape[0]"
      ],
      "execution_count": 23,
      "outputs": [
        {
          "output_type": "execute_result",
          "data": {
            "text/plain": [
              "282"
            ]
          },
          "metadata": {
            "tags": []
          },
          "execution_count": 23
        }
      ]
    },
    {
      "cell_type": "markdown",
      "metadata": {
        "id": "ND4bL8CAlJIt",
        "colab_type": "text"
      },
      "source": [
        "#### TODO: \n",
        "Set line_total = price * quantity if different\n",
        "Remove if line total < 0"
      ]
    },
    {
      "cell_type": "code",
      "metadata": {
        "id": "t5EcjRtMlJIu",
        "colab_type": "code",
        "colab": {}
      },
      "source": [
        " df = df[(df['price'] * df['quantity']) == df['line_total']]\n",
        " df = df[df['line_total'] > 0]"
      ],
      "execution_count": 0,
      "outputs": []
    },
    {
      "cell_type": "code",
      "metadata": {
        "id": "LYPtpOtZlJI0",
        "colab_type": "code",
        "colab": {}
      },
      "source": [
        ""
      ],
      "execution_count": 0,
      "outputs": []
    },
    {
      "cell_type": "code",
      "metadata": {
        "id": "t93yQ5LwlJI6",
        "colab_type": "code",
        "colab": {
          "base_uri": "https://localhost:8080/",
          "height": 297
        },
        "outputId": "59551877-65e6-458b-d352-c2dd6010dd73"
      },
      "source": [
        "df.describe()"
      ],
      "execution_count": 33,
      "outputs": [
        {
          "output_type": "execute_result",
          "data": {
            "text/html": [
              "<div>\n",
              "<style scoped>\n",
              "    .dataframe tbody tr th:only-of-type {\n",
              "        vertical-align: middle;\n",
              "    }\n",
              "\n",
              "    .dataframe tbody tr th {\n",
              "        vertical-align: top;\n",
              "    }\n",
              "\n",
              "    .dataframe thead th {\n",
              "        text-align: right;\n",
              "    }\n",
              "</style>\n",
              "<table border=\"1\" class=\"dataframe\">\n",
              "  <thead>\n",
              "    <tr style=\"text-align: right;\">\n",
              "      <th></th>\n",
              "      <th>order_id</th>\n",
              "      <th>price</th>\n",
              "      <th>quantity</th>\n",
              "      <th>line_total</th>\n",
              "    </tr>\n",
              "  </thead>\n",
              "  <tbody>\n",
              "    <tr>\n",
              "      <th>count</th>\n",
              "      <td>27596.000000</td>\n",
              "      <td>27596.000000</td>\n",
              "      <td>27596.000000</td>\n",
              "      <td>27596.000000</td>\n",
              "    </tr>\n",
              "    <tr>\n",
              "      <th>mean</th>\n",
              "      <td>14993.365995</td>\n",
              "      <td>2.511596</td>\n",
              "      <td>2.000833</td>\n",
              "      <td>5.028845</td>\n",
              "    </tr>\n",
              "    <tr>\n",
              "      <th>std</th>\n",
              "      <td>2888.622150</td>\n",
              "      <td>1.059402</td>\n",
              "      <td>0.819472</td>\n",
              "      <td>3.085841</td>\n",
              "    </tr>\n",
              "    <tr>\n",
              "      <th>min</th>\n",
              "      <td>10000.000000</td>\n",
              "      <td>0.500000</td>\n",
              "      <td>1.000000</td>\n",
              "      <td>0.500000</td>\n",
              "    </tr>\n",
              "    <tr>\n",
              "      <th>25%</th>\n",
              "      <td>12499.000000</td>\n",
              "      <td>1.500000</td>\n",
              "      <td>1.000000</td>\n",
              "      <td>2.500000</td>\n",
              "    </tr>\n",
              "    <tr>\n",
              "      <th>50%</th>\n",
              "      <td>14972.500000</td>\n",
              "      <td>2.500000</td>\n",
              "      <td>2.000000</td>\n",
              "      <td>4.500000</td>\n",
              "    </tr>\n",
              "    <tr>\n",
              "      <th>75%</th>\n",
              "      <td>17506.250000</td>\n",
              "      <td>3.500000</td>\n",
              "      <td>3.000000</td>\n",
              "      <td>7.500000</td>\n",
              "    </tr>\n",
              "    <tr>\n",
              "      <th>max</th>\n",
              "      <td>19999.000000</td>\n",
              "      <td>4.000000</td>\n",
              "      <td>3.000000</td>\n",
              "      <td>12.000000</td>\n",
              "    </tr>\n",
              "  </tbody>\n",
              "</table>\n",
              "</div>"
            ],
            "text/plain": [
              "           order_id         price      quantity    line_total\n",
              "count  27596.000000  27596.000000  27596.000000  27596.000000\n",
              "mean   14993.365995      2.511596      2.000833      5.028845\n",
              "std     2888.622150      1.059402      0.819472      3.085841\n",
              "min    10000.000000      0.500000      1.000000      0.500000\n",
              "25%    12499.000000      1.500000      1.000000      2.500000\n",
              "50%    14972.500000      2.500000      2.000000      4.500000\n",
              "75%    17506.250000      3.500000      3.000000      7.500000\n",
              "max    19999.000000      4.000000      3.000000     12.000000"
            ]
          },
          "metadata": {
            "tags": []
          },
          "execution_count": 33
        }
      ]
    },
    {
      "cell_type": "markdown",
      "metadata": {
        "id": "amFlRK3TlJJA",
        "colab_type": "text"
      },
      "source": [
        "#### TODO: Get value between \"\" in name and put it in category column"
      ]
    },
    {
      "cell_type": "code",
      "metadata": {
        "id": "7cni6RZblJJB",
        "colab_type": "code",
        "colab": {}
      },
      "source": [
        "def get_category(txt):\n",
        "  return txt.split('\"')[1]\n",
        "def get_name(txt):\n",
        "  return (txt.split('\"')[2])[1:]\n",
        "df['category'] = df['name'].apply(get_category)\n",
        "df['name'] = df['name'].apply(get_name)"
      ],
      "execution_count": 0,
      "outputs": []
    },
    {
      "cell_type": "code",
      "metadata": {
        "id": "PAwn64ZglJJH",
        "colab_type": "code",
        "colab": {
          "base_uri": "https://localhost:8080/",
          "height": 204
        },
        "outputId": "258c7bf9-bf3f-4d58-c5db-27ec566a7da5"
      },
      "source": [
        "df.head()"
      ],
      "execution_count": 37,
      "outputs": [
        {
          "output_type": "execute_result",
          "data": {
            "text/html": [
              "<div>\n",
              "<style scoped>\n",
              "    .dataframe tbody tr th:only-of-type {\n",
              "        vertical-align: middle;\n",
              "    }\n",
              "\n",
              "    .dataframe tbody tr th {\n",
              "        vertical-align: top;\n",
              "    }\n",
              "\n",
              "    .dataframe thead th {\n",
              "        text-align: right;\n",
              "    }\n",
              "</style>\n",
              "<table border=\"1\" class=\"dataframe\">\n",
              "  <thead>\n",
              "    <tr style=\"text-align: right;\">\n",
              "      <th></th>\n",
              "      <th>order_id</th>\n",
              "      <th>name</th>\n",
              "      <th>ordered_at</th>\n",
              "      <th>price</th>\n",
              "      <th>quantity</th>\n",
              "      <th>line_total</th>\n",
              "      <th>category</th>\n",
              "    </tr>\n",
              "  </thead>\n",
              "  <tbody>\n",
              "    <tr>\n",
              "      <th>0</th>\n",
              "      <td>10000</td>\n",
              "      <td>Peanut Fudge</td>\n",
              "      <td>2018-01-01 11:30:00</td>\n",
              "      <td>3.5</td>\n",
              "      <td>3</td>\n",
              "      <td>10.5</td>\n",
              "      <td>ICE CREAM</td>\n",
              "    </tr>\n",
              "    <tr>\n",
              "      <th>1</th>\n",
              "      <td>10000</td>\n",
              "      <td>Peanut Fudge</td>\n",
              "      <td>2018-01-01 11:30:00</td>\n",
              "      <td>3.5</td>\n",
              "      <td>1</td>\n",
              "      <td>3.5</td>\n",
              "      <td>ICE CREAM</td>\n",
              "    </tr>\n",
              "    <tr>\n",
              "      <th>2</th>\n",
              "      <td>10001</td>\n",
              "      <td>Raspberry</td>\n",
              "      <td>2018-01-01 12:14:54</td>\n",
              "      <td>2.5</td>\n",
              "      <td>2</td>\n",
              "      <td>5.0</td>\n",
              "      <td>SORBET</td>\n",
              "    </tr>\n",
              "    <tr>\n",
              "      <th>4</th>\n",
              "      <td>10001</td>\n",
              "      <td>Dipped Waffle Cone</td>\n",
              "      <td>2018-01-01 12:14:54</td>\n",
              "      <td>3.5</td>\n",
              "      <td>1</td>\n",
              "      <td>3.5</td>\n",
              "      <td>CONE</td>\n",
              "    </tr>\n",
              "    <tr>\n",
              "      <th>5</th>\n",
              "      <td>10002</td>\n",
              "      <td>Lychee</td>\n",
              "      <td>2018-01-01 12:23:09</td>\n",
              "      <td>3.0</td>\n",
              "      <td>1</td>\n",
              "      <td>3.0</td>\n",
              "      <td>SORBET</td>\n",
              "    </tr>\n",
              "  </tbody>\n",
              "</table>\n",
              "</div>"
            ],
            "text/plain": [
              "   order_id                name  ... line_total   category\n",
              "0     10000        Peanut Fudge  ...       10.5  ICE CREAM\n",
              "1     10000        Peanut Fudge  ...        3.5  ICE CREAM\n",
              "2     10001           Raspberry  ...        5.0     SORBET\n",
              "4     10001  Dipped Waffle Cone  ...        3.5       CONE\n",
              "5     10002              Lychee  ...        3.0     SORBET\n",
              "\n",
              "[5 rows x 7 columns]"
            ]
          },
          "metadata": {
            "tags": []
          },
          "execution_count": 37
        }
      ]
    },
    {
      "cell_type": "markdown",
      "metadata": {
        "id": "PDsnZ5dLlJJS",
        "colab_type": "text"
      },
      "source": [
        "#### Analysis, finally!"
      ]
    },
    {
      "cell_type": "code",
      "metadata": {
        "id": "3n9RshbMlJJV",
        "colab_type": "code",
        "colab": {
          "base_uri": "https://localhost:8080/",
          "height": 407
        },
        "outputId": "61720be0-abe1-4c40-c612-382a92025d4c"
      },
      "source": [
        "f, ax = plt.subplots(figsize=(10, 6))\n",
        "df.groupby('name')['line_total'].sum().sort_values(ascending=False).head(10).plot(kind='bar')\n",
        "f.autofmt_xdate()\n",
        "plt.show()"
      ],
      "execution_count": 38,
      "outputs": [
        {
          "output_type": "display_data",
          "data": {
            "image/png": "[encoded data removed]",
            "text/plain": [
              "<Figure size 720x432 with 1 Axes>"
            ]
          },
          "metadata": {
            "tags": []
          }
        }
      ]
    }
  ]
}