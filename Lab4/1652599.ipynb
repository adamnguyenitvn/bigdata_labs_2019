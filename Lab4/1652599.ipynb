{
 "cells": [
  {
   "cell_type": "code",
   "execution_count": 1,
   "metadata": {},
   "outputs": [],
   "source": [
    "from sklearn import datasets\n",
    "import matplotlib.pyplot as plt"
   ]
  },
  {
   "cell_type": "code",
   "execution_count": 2,
   "metadata": {},
   "outputs": [],
   "source": [
    "digits = datasets.load_digits()"
   ]
  },
  {
   "cell_type": "code",
   "execution_count": 3,
   "metadata": {},
   "outputs": [],
   "source": [
    "from sklearn.model_selection import train_test_split\n",
    "import numpy as np"
   ]
  },
  {
   "cell_type": "code",
   "execution_count": 32,
   "metadata": {},
   "outputs": [],
   "source": [
    "X = digits.data\n",
    "y = digits.target\n",
    "\n",
    "X_train, X_test, y_train, y_test = train_test_split(X, y, test_size = 0.2, random_state = 0)"
   ]
  },
  {
   "cell_type": "code",
   "execution_count": 12,
   "metadata": {},
   "outputs": [
    {
     "data": {
      "text/plain": [
       "(1797, 64)"
      ]
     },
     "execution_count": 12,
     "metadata": {},
     "output_type": "execute_result"
    }
   ],
   "source": [
    "X.shape"
   ]
  },
  {
   "cell_type": "code",
   "execution_count": 17,
   "metadata": {},
   "outputs": [
    {
     "name": "stdout",
     "output_type": "stream",
     "text": [
      "(1437, 64)\n",
      "(1437,)\n"
     ]
    }
   ],
   "source": [
    "print(X_train.shape)\n",
    "print(y_train.shape)"
   ]
  },
  {
   "cell_type": "code",
   "execution_count": 18,
   "metadata": {},
   "outputs": [
    {
     "name": "stdout",
     "output_type": "stream",
     "text": [
      "(360, 64)\n",
      "(360,)\n"
     ]
    }
   ],
   "source": [
    "print(X_test.shape)\n",
    "print(y_test.shape)"
   ]
  },
  {
   "cell_type": "code",
   "execution_count": 19,
   "metadata": {},
   "outputs": [],
   "source": [
    "from sklearn.neighbors import KNeighborsClassifier\n",
    "from sklearn.metrics import confusion_matrix, accuracy_score\n",
    "from sklearn.model_selection import cross_val_score"
   ]
  },
  {
   "cell_type": "code",
   "execution_count": 33,
   "metadata": {},
   "outputs": [
    {
     "name": "stdout",
     "output_type": "stream",
     "text": [
      "1 1.0 0.988888888889\n",
      "2 0.989561586639 0.980555555556\n",
      "3 0.990953375087 0.983333333333\n",
      "4 0.991649269311 0.975\n",
      "5 0.990257480863 0.975\n",
      "6 0.990257480863 0.972222222222\n",
      "7 0.990953375087 0.975\n",
      "8 0.989561586639 0.975\n",
      "9 0.987473903967 0.975\n",
      "10 0.986082115518 0.972222222222\n",
      "11 0.988865692415 0.972222222222\n",
      "12 0.98469032707 0.972222222222\n",
      "13 0.98469032707 0.972222222222\n",
      "14 0.983994432846 0.969444444444\n",
      "15 0.983994432846 0.969444444444\n",
      "16 0.98121085595 0.969444444444\n",
      "17 0.98121085595 0.966666666667\n",
      "18 0.979819067502 0.966666666667\n",
      "19 0.978427279054 0.961111111111\n",
      "20 0.977035490605 0.963888888889\n"
     ]
    }
   ],
   "source": [
    "neighbors_number = np.arange(1, 21)\n",
    "train_accuracy = np.empty(len(neighbors_number))\n",
    "test_accuracy = np.empty(len(neighbors_number))\n",
    "for i, k in enumerate(neighbors_number):\n",
    "    knn = KNeighborsClassifier(n_neighbors = k)\n",
    "    knn.fit(X_train, y_train)\n",
    "    train_accuracy[i] = knn.score(X_train, y_train)\n",
    "    test_accuracy[i] = knn.score(X_test, y_test)\n",
    "    print(k, train_accuracy[i], test_accuracy[i])"
   ]
  },
  {
   "cell_type": "code",
   "execution_count": 34,
   "metadata": {},
   "outputs": [
    {
     "data": {
      "image/png": "[encoded data removed]",
      "text/plain": [
       "<Figure size 432x288 with 1 Axes>"
      ]
     },
     "metadata": {},
     "output_type": "display_data"
    }
   ],
   "source": [
    "plt.plot(neighbors_number, test_accuracy, label = 'Test accuracy')\n",
    "plt.plot(neighbors_number, train_accuracy, label = 'Training accuracy')\n",
    "plt.legend()\n",
    "plt.xlabel('Number of neighbors')\n",
    "plt.ylabel('Accuracy')\n",
    "plt.show()"
   ]
  },
  {
   "cell_type": "markdown",
   "metadata": {},
   "source": [
    "When k = 3, the test_accuracy is the highest: 0.983"
   ]
  },
  {
   "cell_type": "code",
   "execution_count": 31,
   "metadata": {},
   "outputs": [],
   "source": [
    "from sklearn import svm\n",
    "from sklearn.metrics import classification_report"
   ]
  },
  {
   "cell_type": "code",
   "execution_count": 35,
   "metadata": {},
   "outputs": [],
   "source": [
    "svm_md = svm.SVC(kernel = 'linear')\n",
    "svm_md.fit(X_train, y_train)\n",
    "\n",
    "y_pred = svm_md.predict(X_test)"
   ]
  },
  {
   "cell_type": "code",
   "execution_count": 37,
   "metadata": {},
   "outputs": [
    {
     "name": "stdout",
     "output_type": "stream",
     "text": [
      "             precision    recall  f1-score   support\n",
      "\n",
      "          0       1.00      1.00      1.00        27\n",
      "          1       0.94      0.97      0.96        35\n",
      "          2       0.97      1.00      0.99        36\n",
      "          3       0.97      1.00      0.98        29\n",
      "          4       0.97      1.00      0.98        30\n",
      "          5       0.97      0.97      0.97        40\n",
      "          6       1.00      0.98      0.99        44\n",
      "          7       1.00      0.97      0.99        39\n",
      "          8       0.97      0.95      0.96        39\n",
      "          9       0.97      0.95      0.96        41\n",
      "\n",
      "avg / total       0.98      0.98      0.98       360\n",
      "\n"
     ]
    }
   ],
   "source": [
    "print(classification_report(y_test, y_pred))"
   ]
  },
  {
   "cell_type": "code",
   "execution_count": 38,
   "metadata": {},
   "outputs": [],
   "source": [
    "svm_md_rbf = svm.SVC(kernel = 'rbf')\n",
    "svm_md_rbf.fit(X_train, y_train)\n",
    "\n",
    "y_pred_rbf = svm_md_rbf.predict(X_test)"
   ]
  },
  {
   "cell_type": "code",
   "execution_count": 40,
   "metadata": {},
   "outputs": [
    {
     "name": "stdout",
     "output_type": "stream",
     "text": [
      "             precision    recall  f1-score   support\n",
      "\n",
      "          0       1.00      0.67      0.80        27\n",
      "          1       1.00      0.17      0.29        35\n",
      "          2       1.00      0.25      0.40        36\n",
      "          3       0.11      1.00      0.19        29\n",
      "          4       1.00      0.50      0.67        30\n",
      "          5       1.00      0.15      0.26        40\n",
      "          6       1.00      0.39      0.56        44\n",
      "          7       1.00      0.23      0.38        39\n",
      "          8       0.00      0.00      0.00        39\n",
      "          9       1.00      0.20      0.33        41\n",
      "\n",
      "avg / total       0.82      0.33      0.37       360\n",
      "\n"
     ]
    },
    {
     "name": "stderr",
     "output_type": "stream",
     "text": [
      "D:\\Downloads\\WinPython\\python-3.6.5.amd64\\lib\\site-packages\\sklearn\\metrics\\classification.py:1135: UndefinedMetricWarning: Precision and F-score are ill-defined and being set to 0.0 in labels with no predicted samples.\n",
      "  'precision', 'predicted', average, warn_for)\n"
     ]
    }
   ],
   "source": [
    "print(classification_report(y_test, y_pred_rbf))"
   ]
  },
  {
   "cell_type": "markdown",
   "metadata": {},
   "source": [
    "Linear kernel is prefered in this case, in my opinion"
   ]
  },
  {
   "cell_type": "code",
   "execution_count": 48,
   "metadata": {},
   "outputs": [],
   "source": [
    "from sklearn.naive_bayes import GaussianNB\n",
    "from sklearn.metrics import confusion_matrix\n",
    "\n",
    "nb = GaussianNB()\n",
    "nb.fit(X_train, y_train)\n",
    "y_pred_nb = nb.predict(X_test)"
   ]
  },
  {
   "cell_type": "code",
   "execution_count": 50,
   "metadata": {},
   "outputs": [
    {
     "name": "stdout",
     "output_type": "stream",
     "text": [
      "             precision    recall  f1-score   support\n",
      "\n",
      "          0       1.00      1.00      1.00        27\n",
      "          1       0.66      0.89      0.76        35\n",
      "          2       0.94      0.47      0.63        36\n",
      "          3       0.89      0.83      0.86        29\n",
      "          4       1.00      0.73      0.85        30\n",
      "          5       0.97      0.88      0.92        40\n",
      "          6       1.00      1.00      1.00        44\n",
      "          7       0.74      1.00      0.85        39\n",
      "          8       0.54      0.82      0.65        39\n",
      "          9       0.96      0.63      0.76        41\n",
      "\n",
      "avg / total       0.87      0.82      0.83       360\n",
      "\n"
     ]
    }
   ],
   "source": [
    "print(classification_report(y_test, y_pred_nb))"
   ]
  },
  {
   "cell_type": "code",
   "execution_count": 49,
   "metadata": {},
   "outputs": [
    {
     "name": "stdout",
     "output_type": "stream",
     "text": [
      "[[27  0  0  0  0  0  0  0  0  0]\n",
      " [ 0 31  0  0  0  0  0  0  4  0]\n",
      " [ 0  7 17  0  0  0  0  0 12  0]\n",
      " [ 0  0  1 24  0  0  0  0  4  0]\n",
      " [ 0  1  0  0 22  0  0  7  0  0]\n",
      " [ 0  1  0  0  0 35  0  3  0  1]\n",
      " [ 0  0  0  0  0  0 44  0  0  0]\n",
      " [ 0  0  0  0  0  0  0 39  0  0]\n",
      " [ 0  5  0  0  0  1  0  1 32  0]\n",
      " [ 0  2  0  3  0  0  0  3  7 26]]\n"
     ]
    }
   ],
   "source": [
    "print(confusion_matrix(y_test, y_pred_nb))"
   ]
  },
  {
   "cell_type": "code",
   "execution_count": 52,
   "metadata": {},
   "outputs": [],
   "source": [
    "import pandas as pd\n",
    "\n",
    "df_cm = pd.DataFrame(confusion_matrix(y_test, y_pred_nb), index = [i for i in range(0, 10)], columns = [i for i in range(0, 10)])"
   ]
  },
  {
   "cell_type": "code",
   "execution_count": 53,
   "metadata": {},
   "outputs": [
    {
     "data": {
      "text/plain": [
       "<matplotlib.axes._subplots.AxesSubplot at 0x1c1797989e8>"
      ]
     },
     "execution_count": 53,
     "metadata": {},
     "output_type": "execute_result"
    },
    {
     "data": {
      "image/png": "[encoded data removed]",
      "text/plain": [
       "<Figure size 432x288 with 2 Axes>"
      ]
     },
     "metadata": {},
     "output_type": "display_data"
    }
   ],
   "source": [
    "import seaborn as sn\n",
    "\n",
    "sn.heatmap(df_cm, annot = True)"
   ]
  },
  {
   "cell_type": "code",
   "execution_count": null,
   "metadata": {},
   "outputs": [],
   "source": []
  },
  {
   "cell_type": "code",
   "execution_count": null,
   "metadata": {},
   "outputs": [],
   "source": []
  },
  {
   "cell_type": "code",
   "execution_count": null,
   "metadata": {},
   "outputs": [],
   "source": []
  },
  {
   "cell_type": "code",
   "execution_count": null,
   "metadata": {},
   "outputs": [],
   "source": []
  },
  {
   "cell_type": "code",
   "execution_count": null,
   "metadata": {},
   "outputs": [],
   "source": []
  },
  {
   "cell_type": "code",
   "execution_count": null,
   "metadata": {},
   "outputs": [],
   "source": []
  },
  {
   "cell_type": "code",
   "execution_count": null,
   "metadata": {},
   "outputs": [],
   "source": []
  }
 ],
 "metadata": {
  "kernelspec": {
   "display_name": "Python 3",
   "language": "python",
   "name": "python3"
  },
  "language_info": {
   "codemirror_mode": {
    "name": "ipython",
    "version": 3
   },
   "file_extension": ".py",
   "mimetype": "text/x-python",
   "name": "python",
   "nbconvert_exporter": "python",
   "pygments_lexer": "ipython3",
   "version": "3.6.5"
  }
 },
 "nbformat": 4,
 "nbformat_minor": 2
}
