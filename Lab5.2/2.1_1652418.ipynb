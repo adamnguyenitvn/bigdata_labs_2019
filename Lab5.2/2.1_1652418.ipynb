{
 "cells": [
  {
   "cell_type": "markdown",
   "metadata": {},
   "source": [
    "# Lab 10 - Textual Data Analytics\n",
    "Complete the code with TODO tag.\n",
    "## 1. Feature Engineering\n",
    "In this exercise we will understand the functioning of TF/IDF ranking. Implement the feature engineering and its application, based on the code framework provided below.\n",
    "\n",
    "First we use textual data from Twitter."
   ]
  },
  {
   "cell_type": "code",
   "execution_count": 1,
   "metadata": {},
   "outputs": [
    {
     "name": "stdout",
     "output_type": "stream",
     "text": "2819\n"
    },
    {
     "data": {
      "text/html": "<div>\n<style scoped>\n    .dataframe tbody tr th:only-of-type {\n        vertical-align: middle;\n    }\n\n    .dataframe tbody tr th {\n        vertical-align: top;\n    }\n\n    .dataframe thead th {\n        text-align: right;\n    }\n</style>\n<table border=\"1\" class=\"dataframe\">\n  <thead>\n    <tr style=\"text-align: right;\">\n      <th></th>\n      <th>id</th>\n      <th>created_at</th>\n      <th>text</th>\n    </tr>\n  </thead>\n  <tbody>\n    <tr>\n      <th>0</th>\n      <td>849636868052275200</td>\n      <td>2017-04-05 14:56:29</td>\n      <td>b'And so the robots spared humanity ... https:...</td>\n    </tr>\n    <tr>\n      <th>1</th>\n      <td>848988730585096192</td>\n      <td>2017-04-03 20:01:01</td>\n      <td>b\"@ForIn2020 @waltmossberg @mims @defcon_5 Exa...</td>\n    </tr>\n    <tr>\n      <th>2</th>\n      <td>848943072423497728</td>\n      <td>2017-04-03 16:59:35</td>\n      <td>b'@waltmossberg @mims @defcon_5 Et tu, Walt?'</td>\n    </tr>\n    <tr>\n      <th>3</th>\n      <td>848935705057280001</td>\n      <td>2017-04-03 16:30:19</td>\n      <td>b'Stormy weather in Shortville ...'</td>\n    </tr>\n    <tr>\n      <th>4</th>\n      <td>848416049573658624</td>\n      <td>2017-04-02 06:05:23</td>\n      <td>b\"@DaveLeeBBC @verge Coal is dying due to nat ...</td>\n    </tr>\n  </tbody>\n</table>\n</div>",
      "text/plain": "                   id           created_at  \\\n0  849636868052275200  2017-04-05 14:56:29   \n1  848988730585096192  2017-04-03 20:01:01   \n2  848943072423497728  2017-04-03 16:59:35   \n3  848935705057280001  2017-04-03 16:30:19   \n4  848416049573658624  2017-04-02 06:05:23   \n\n                                                text  \n0  b'And so the robots spared humanity ... https:...  \n1  b\"@ForIn2020 @waltmossberg @mims @defcon_5 Exa...  \n2      b'@waltmossberg @mims @defcon_5 Et tu, Walt?'  \n3                b'Stormy weather in Shortville ...'  \n4  b\"@DaveLeeBBC @verge Coal is dying due to nat ...  "
     },
     "execution_count": 1,
     "metadata": {},
     "output_type": "execute_result"
    }
   ],
   "source": [
    "import numpy as np\n",
    "import pandas as pd\n",
    "data = pd.read_csv('elonmusk_tweets.csv')\n",
    "print(len(data))\n",
    "data.head()"
   ]
  },
  {
   "cell_type": "markdown",
   "metadata": {},
   "source": [
    "### 1.1. Text Normalization\n",
    "Now we need to normalize text by stemming, tokenizing, and removing stopwords."
   ]
  },
  {
   "cell_type": "code",
   "execution_count": 3,
   "metadata": {},
   "outputs": [
    {
     "name": "stderr",
     "output_type": "stream",
     "text": "[nltk_data] Downloading package punkt to /root/nltk_data...\n[nltk_data]   Package punkt is already up-to-date!\n[nltk_data] Downloading package stopwords to /root/nltk_data...\n[nltk_data]   Package stopwords is already up-to-date!\n"
    }
   ],
   "source": [
    "from __future__ import print_function, division\n",
    "from nltk.stem import PorterStemmer, WordNetLemmatizer\n",
    "import nltk\n",
    "nltk.download('punkt')\n",
    "import string\n",
    "from nltk.corpus import stopwords\n",
    "import math\n",
    "from collections import Counter\n",
    "nltk.download('stopwords')\n",
    "import pprint \n",
    "pp = pprint.PrettyPrinter(indent=4)"
   ]
  },
  {
   "cell_type": "code",
   "execution_count": 53,
   "metadata": {},
   "outputs": [
    {
     "name": "stdout",
     "output_type": "stream",
     "text": "['b', 'forin2020', 'waltmossberg', 'mim', 'defcon', '5', 'exactli', 'tesla', 'is', 'absurdli', 'overvalu', 'if', 'base', 'on', 'the', 'past', 'but', 'that', 's', 'irr', 'xe2', 'x80', 'xa6', 'http', 't', 'co', 'qqctqkzgml']\nb\"@ForIn2020 @waltmossberg @mims @defcon_5 Exactly. Tesla is absurdly overvalued if based on the past, but that's irr\\xe2\\x80\\xa6 https://t.co/qQcTqkzgMl\"\n"
    }
   ],
   "source": [
    "import re\n",
    "def normalize(document):\n",
    "    # TODO: remove punctuation\n",
    "    text = ''.join(c if c not in string.punctuation else ' 'for c in document)\n",
    "    \n",
    "    # tokenize text\n",
    "    tokens = nltk.word_tokenize(text)\n",
    "    \n",
    "    # Stemming\n",
    "    stemmer = PorterStemmer()\n",
    "    ret = \" \".join([stemmer.stem(word.lower()) for word in tokens])\n",
    "    return ret\n",
    "\n",
    "original_documents = [x.strip() for x in data['text']] \n",
    "documents = [normalize(d).split() for d in original_documents]\n",
    "print(documents[1])\n",
    "print(original_documents[1])"
   ]
  },
  {
   "cell_type": "markdown",
   "metadata": {},
   "source": [
    "As you can see that the normalization is still not perfect. Please feel free to improve upon (OPTIONAL), e.g. https://marcobonzanini.com/2015/03/09/mining-twitter-data-with-python-part-2/"
   ]
  },
  {
   "cell_type": "markdown",
   "metadata": {},
   "source": [
    "### 1.2. Implement TF-IDF\n",
    "Now you need to implement TF-IDF, including creating the vocabulary, computing term frequency, and normalizing by tf-idf weights."
   ]
  },
  {
   "cell_type": "code",
   "execution_count": 54,
   "metadata": {},
   "outputs": [
    {
     "name": "stdout",
     "output_type": "stream",
     "text": "[('tesla', 358)]\n"
    },
    {
     "data": {
      "text/plain": "['b', 'co', 'http', 'rt', 'xe2']"
     },
     "execution_count": 54,
     "metadata": {},
     "output_type": "execute_result"
    }
   ],
   "source": [
    "# Flatten all the documents\n",
    "flat_list = [word for doc in documents for word in doc]\n",
    "\n",
    "# TODO: remove stop words from the vocabulary\n",
    "stop_words = set(stopwords.words('english'))\n",
    "words = [word for word in flat_list if word not in stop_words]\n",
    "\n",
    "# we take the 500 most common words only\n",
    "counts = Counter(words)\n",
    "vocabulary = counts.most_common(500)\n",
    "print([x for x in vocabulary if x[0] == 'tesla'])\n",
    "vocabulary = [x[0] for x in vocabulary]\n",
    "assert len(vocabulary) == 500\n",
    "\n",
    "# vocabulary.sort()\n",
    "vocabulary[:5]"
   ]
  },
  {
   "cell_type": "code",
   "execution_count": 55,
   "metadata": {},
   "outputs": [
    {
     "data": {
      "text/plain": "(array(['b', 'co', 'http', 'xe2', 'x80', 'tesla', 'xa6', '5', 'exactli',\n        'base'], dtype='<U15'), array([1, 1, 1, 1, 1, 1, 1, 1, 1, 1]))"
     },
     "execution_count": 55,
     "metadata": {},
     "output_type": "execute_result"
    }
   ],
   "source": [
    "def tf(vocabulary, documents):\n",
    "    matrix = [0] * len(documents)\n",
    "    for i, document in enumerate(documents):\n",
    "        counts = Counter(document)\n",
    "        matrix[i] = [0] * len(vocabulary)\n",
    "        for j, term in enumerate(vocabulary):\n",
    "            matrix[i][j] = counts[term]\n",
    "    return matrix\n",
    "\n",
    "tf = tf(vocabulary, documents)\n",
    "np.array(vocabulary)[np.where(np.array(tf[1]) > 0)], np.array(tf[1])[np.where(np.array(tf[1]) > 0)]"
   ]
  },
  {
   "cell_type": "code",
   "execution_count": 56,
   "metadata": {},
   "outputs": [
    {
     "data": {
      "text/plain": "[2819, 1065, 1039, 487, 318]"
     },
     "execution_count": 56,
     "metadata": {},
     "output_type": "execute_result"
    }
   ],
   "source": [
    "from functools import reduce\n",
    "def idf(vocabulary, documents):\n",
    "    \"\"\"TODO: compute IDF, storing values in a dictionary\"\"\"\n",
    "    idf = {}\n",
    "    matrix = np.array(tf)\n",
    "    for i, term in enumerate(vocabulary):\n",
    "        document_term = matrix[:,i]\n",
    "        idf[term] = reduce(lambda a, b: a + 1 if b > 0 else a, document_term, 0)\n",
    "    return idf\n",
    "\n",
    "idf = idf(vocabulary, documents)\n",
    "[idf[key] for key in vocabulary[:5]]"
   ]
  },
  {
   "cell_type": "code",
   "execution_count": 57,
   "metadata": {},
   "outputs": [
    {
     "data": {
      "text/plain": "(array(['b', 'co', 'http', 'xe2', 'x80', 'tesla', 'xa6', '5', 'exactli',\n        'base'], dtype='<U15'),\n array([2819, 1065, 1039,  318,  315,  351,  251,   60,   32,   11]))"
     },
     "execution_count": 57,
     "metadata": {},
     "output_type": "execute_result"
    }
   ],
   "source": [
    "# def vectorize(documents, vocabulary, idf, tf):\n",
    "#     document_vectors = [0] * len(documents)\n",
    "#     for i, document in enumerate(documents):\n",
    "#         document_vectors[i] = [0] * len(vocabulary)\n",
    "#         for j, term in enumerate(vocabulary):\n",
    "#             document_vectors[i][j] = idf[term] * tf[i][j]\n",
    "#     return document_vectors\n",
    "\n",
    "def vectorize(document, vocabulary, idf):\n",
    "    vector = [0]*len(vocabulary)\n",
    "    counts = Counter(document)\n",
    "    for i,term in enumerate(vocabulary):\n",
    "        vector[i] = idf[term] * counts[term]\n",
    "    return vector\n",
    "\n",
    "document_vectors = [vectorize(s, vocabulary, idf) for s in documents]\n",
    "np.array(vocabulary)[np.where(np.array(document_vectors[1]) > 0)], np.array(document_vectors[1])[np.where(np.array(document_vectors[1]) > 0)]"
   ]
  },
  {
   "cell_type": "markdown",
   "metadata": {},
   "source": [
    "### 1.3. Compare the results with the reference implementation of scikit-learn library."
   ]
  },
  {
   "cell_type": "markdown",
   "metadata": {},
   "source": [
    "Now we use the scikit-learn library. As you can see that, the way we do text normalization affects the result. Feel free to further improve upon (OPTIONAL), e.g. https://stackoverflow.com/questions/36182502/add-stemming-support-to-countvectorizer-sklearn"
   ]
  },
  {
   "cell_type": "code",
   "execution_count": 58,
   "metadata": {},
   "outputs": [
    {
     "name": "stdout",
     "output_type": "stream",
     "text": "[('http', 163.54366542841234), ('https', 151.85039944652075), ('rt', 112.61998731390989), ('tesla', 95.96401470715628), ('xe2', 88.20944486346477)]\ntestla 0.3495243100660956\n"
    }
   ],
   "source": [
    "from sklearn.feature_extraction.text import CountVectorizer, TfidfVectorizer\n",
    "from sklearn.metrics.pairwise import linear_kernel\n",
    "\n",
    "tfidf = TfidfVectorizer(analyzer='word', ngram_range=(1,1), min_df = 1, stop_words = 'english', max_features=500)\n",
    "\n",
    "features = tfidf.fit(original_documents)\n",
    "corpus_tf_idf = tfidf.transform(original_documents) \n",
    "\n",
    "sum_words = corpus_tf_idf.sum(axis=0)\n",
    "words_freq = [(word, sum_words[0, idx]) for word, idx in tfidf.vocabulary_.items()]\n",
    "print(sorted(words_freq, key = lambda x: x[1], reverse=True)[:5])\n",
    "print('testla', corpus_tf_idf[1, features.vocabulary_['tesla']])"
   ]
  },
  {
   "cell_type": "markdown",
   "metadata": {},
   "source": [
    "### 1.4.  Apply TF-IDF for information retrieval\n",
    "We can use the vector representation of documents to implement an information retrieval system. We test with the query $Q$ = \"tesla nasa\""
   ]
  },
  {
   "cell_type": "code",
   "execution_count": 64,
   "metadata": {},
   "outputs": [
    {
     "name": "stdout",
     "output_type": "stream",
     "text": "Top-5 documents\n0 b'Tesla product unveiling on the 17th (unexpected by most), followed by Tesla/SolarCity on the 28th'\n1 b'@disinformatico @Eddy_Jahn Tesla Tesla Autopilot is named after aircraft autopilot, as it is always expected that a pilot must stay alert.'\n2 b'Aiming for Oct 28 unveil in SF Bay Area of new Tesla/SolarCity solar roof with integrated Powerwall 2.0 battery and Tesla charger.'\n3 b'Tesla gets top rating of any company in service. Most important, CR says 97% of owners expect their next car to be a Tesla (the acid test).'\n4 b\"Oh yeah, well Tesla will study a plan to study the GM team that's studying Tesla, so there! http://t.co/Gn41zsaRv8\"\n"
    }
   ],
   "source": [
    "from math import sqrt\n",
    "def cosine_similarity(v1,v2):\n",
    "    \"\"\"TODO: compute cosine similarity\"\"\"\n",
    "    sumxx, sumxy, sumyy = 0, 0, 0\n",
    "    sumxy = sum(i[0]*i[1] for i in zip(v1, v2))\n",
    "    sumxx = sum(i*i for i in v1)\n",
    "    sumyy = sum(i*i for i in v2)\n",
    "    if sumxx == 0 or sumyy == 0:\n",
    "        return 0\n",
    "    result = sumxy / (sqrt(sumxx) * sqrt(sumyy))\n",
    "    return result\n",
    "\n",
    "def search_vec(query, k, vocabulary, stemmer, document_vectors, original_documents):\n",
    "    q = query.split()\n",
    "    q = [stemmer.stem(w) for w in q]\n",
    "    query_vector = vectorize(q, vocabulary, idf)\n",
    "    \n",
    "    # TODO: rank the documents by cosine similarity\n",
    "    scores = [[cosine_similarity(query_vector, document_vectors[d]), d] for d in range(len(document_vectors))]\n",
    "    scores.sort(key=lambda x: -x[0])\n",
    "    \n",
    "    print('Top-{0} documents'.format(k))\n",
    "    for i in range(k):\n",
    "        print(i, original_documents[scores[i][1]])\n",
    "\n",
    "query = \"tesla nasa\"\n",
    "stemmer = PorterStemmer()\n",
    "search_vec(query, 5, vocabulary, stemmer, document_vectors, original_documents)"
   ]
  },
  {
   "cell_type": "markdown",
   "metadata": {},
   "source": [
    "We can also use the scikit-learn library to do the retrieval."
   ]
  },
  {
   "cell_type": "code",
   "execution_count": 65,
   "metadata": {},
   "outputs": [
    {
     "name": "stdout",
     "output_type": "stream",
     "text": "Top-5 documents\n0 b'@ashwin7002 @NASA @faa @AFPAA We have not ruled that out.'\n1 b\"SpaceX could not do this without NASA. Can't express enough appreciation. https://t.co/uQpI60zAV7\"\n2 b'@NASA launched a rocket into the northern lights http://t.co/tR2cSeMV'\n3 b'Whatever happens today, we could not have done it without @NASA, but errors are ours alone and me most of all.'\n4 b'RT @NASA: Updated @SpaceX #Dragon #ISS rendezvous times: NASA TV coverage begins Sunday at 3:30amET: http://t.co/qrm0Dz4jPE. Grapple at  ...'\n"
    }
   ],
   "source": [
    "new_features = tfidf.transform([query])\n",
    "\n",
    "cosine_similarities = linear_kernel(new_features, corpus_tf_idf).flatten()\n",
    "related_docs_indices = cosine_similarities.argsort()[::-1]\n",
    "\n",
    "topk = 5\n",
    "print('Top-{0} documents'.format(topk))\n",
    "for i in range(topk):\n",
    "    print(i, original_documents[related_docs_indices[i]])"
   ]
  },
  {
   "cell_type": "code",
   "execution_count": null,
   "metadata": {},
   "outputs": [],
   "source": [
    "~"
   ]
  }
 ],
 "metadata": {
  "kernelspec": {
   "display_name": "Python 3",
   "language": "python",
   "name": "python3"
  },
  "language_info": {
   "codemirror_mode": {
    "name": "ipython",
    "version": 3
   },
   "file_extension": ".py",
   "mimetype": "text/x-python",
   "name": "python",
   "nbconvert_exporter": "python",
   "pygments_lexer": "ipython3",
   "version": "3.6.5"
  }
 },
 "nbformat": 4,
 "nbformat_minor": 2
}