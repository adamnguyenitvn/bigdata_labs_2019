{
  "nbformat": 4,
  "nbformat_minor": 0,
  "metadata": {
    "kernelspec": {
      "display_name": "Python 3",
      "language": "python",
      "name": "python3"
    },
    "language_info": {
      "codemirror_mode": {
        "name": "ipython",
        "version": 3
      },
      "file_extension": ".py",
      "mimetype": "text/x-python",
      "name": "python",
      "nbconvert_exporter": "python",
      "pygments_lexer": "ipython3",
      "version": "3.6.5"
    },
    "colab": {
      "name": "2_Movie - 1652247.ipynb",
      "provenance": [],
      "collapsed_sections": [],
      "toc_visible": true
    }
  },
  "cells": [
    {
      "cell_type": "markdown",
      "metadata": {
        "id": "dtYHiyCBPTL1",
        "colab_type": "text"
      },
      "source": [
        "## Data Preparation\n",
        "Let's load this data into Python."
      ]
    },
    {
      "cell_type": "code",
      "metadata": {
        "id": "omJmt62ePTL4",
        "colab_type": "code",
        "colab": {}
      },
      "source": [
        "import pandas as pd\n",
        "import numpy as np\n",
        "import matplotlib.pyplot as plt\n",
        "\n",
        "# Reading ratings file\n",
        "# Ignore the timestamp column\n",
        "ratings = pd.read_csv('ratings.csv', encoding='latin-1', usecols=['user_id', 'movie_id', 'rating'])\n",
        "\n",
        "# Reading users file\n",
        "users = pd.read_csv('users.csv', encoding='latin-1', usecols=['user_id', 'gender', 'zipcode', 'age_desc', 'occ_desc'])\n",
        "\n",
        "# Reading movies file\n",
        "movies = pd.read_csv('movies.csv', encoding='latin-1', usecols=['movie_id', 'title', 'genres'])"
      ],
      "execution_count": 0,
      "outputs": []
    },
    {
      "cell_type": "code",
      "metadata": {
        "id": "oAEhL83YPTL9",
        "colab_type": "code",
        "outputId": "ebe8d749-efc1-4158-8f13-51feae44b20d",
        "colab": {
          "base_uri": "https://localhost:8080/",
          "height": 34
        }
      },
      "source": [
        "print(movies.shape)"
      ],
      "execution_count": 82,
      "outputs": [
        {
          "output_type": "stream",
          "text": [
            "(100, 3)\n"
          ],
          "name": "stdout"
        }
      ]
    },
    {
      "cell_type": "code",
      "metadata": {
        "id": "FqGhA2ppPg0Z",
        "colab_type": "code",
        "outputId": "b0d55214-89f6-48e5-b1cf-73b461e55654",
        "colab": {
          "base_uri": "https://localhost:8080/",
          "height": 204
        }
      },
      "source": [
        "ratings.head(5)"
      ],
      "execution_count": 83,
      "outputs": [
        {
          "output_type": "execute_result",
          "data": {
            "text/html": [
              "<div>\n",
              "<style scoped>\n",
              "    .dataframe tbody tr th:only-of-type {\n",
              "        vertical-align: middle;\n",
              "    }\n",
              "\n",
              "    .dataframe tbody tr th {\n",
              "        vertical-align: top;\n",
              "    }\n",
              "\n",
              "    .dataframe thead th {\n",
              "        text-align: right;\n",
              "    }\n",
              "</style>\n",
              "<table border=\"1\" class=\"dataframe\">\n",
              "  <thead>\n",
              "    <tr style=\"text-align: right;\">\n",
              "      <th></th>\n",
              "      <th>user_id</th>\n",
              "      <th>movie_id</th>\n",
              "      <th>rating</th>\n",
              "    </tr>\n",
              "  </thead>\n",
              "  <tbody>\n",
              "    <tr>\n",
              "      <th>0</th>\n",
              "      <td>1</td>\n",
              "      <td>1</td>\n",
              "      <td>3</td>\n",
              "    </tr>\n",
              "    <tr>\n",
              "      <th>1</th>\n",
              "      <td>1</td>\n",
              "      <td>3</td>\n",
              "      <td>5</td>\n",
              "    </tr>\n",
              "    <tr>\n",
              "      <th>2</th>\n",
              "      <td>1</td>\n",
              "      <td>4</td>\n",
              "      <td>4</td>\n",
              "    </tr>\n",
              "    <tr>\n",
              "      <th>3</th>\n",
              "      <td>1</td>\n",
              "      <td>5</td>\n",
              "      <td>3</td>\n",
              "    </tr>\n",
              "    <tr>\n",
              "      <th>4</th>\n",
              "      <td>1</td>\n",
              "      <td>6</td>\n",
              "      <td>3</td>\n",
              "    </tr>\n",
              "  </tbody>\n",
              "</table>\n",
              "</div>"
            ],
            "text/plain": [
              "   user_id  movie_id  rating\n",
              "0        1         1       3\n",
              "1        1         3       5\n",
              "2        1         4       4\n",
              "3        1         5       3\n",
              "4        1         6       3"
            ]
          },
          "metadata": {
            "tags": []
          },
          "execution_count": 83
        }
      ]
    },
    {
      "cell_type": "code",
      "metadata": {
        "id": "TVdt75gfPjIz",
        "colab_type": "code",
        "outputId": "322792c0-1cef-496d-8579-0722efa04a62",
        "colab": {
          "base_uri": "https://localhost:8080/",
          "height": 204
        }
      },
      "source": [
        "users.head(5)"
      ],
      "execution_count": 84,
      "outputs": [
        {
          "output_type": "execute_result",
          "data": {
            "text/html": [
              "<div>\n",
              "<style scoped>\n",
              "    .dataframe tbody tr th:only-of-type {\n",
              "        vertical-align: middle;\n",
              "    }\n",
              "\n",
              "    .dataframe tbody tr th {\n",
              "        vertical-align: top;\n",
              "    }\n",
              "\n",
              "    .dataframe thead th {\n",
              "        text-align: right;\n",
              "    }\n",
              "</style>\n",
              "<table border=\"1\" class=\"dataframe\">\n",
              "  <thead>\n",
              "    <tr style=\"text-align: right;\">\n",
              "      <th></th>\n",
              "      <th>user_id</th>\n",
              "      <th>gender</th>\n",
              "      <th>zipcode</th>\n",
              "      <th>age_desc</th>\n",
              "      <th>occ_desc</th>\n",
              "    </tr>\n",
              "  </thead>\n",
              "  <tbody>\n",
              "    <tr>\n",
              "      <th>0</th>\n",
              "      <td>1</td>\n",
              "      <td>F</td>\n",
              "      <td>48067</td>\n",
              "      <td>Under 18</td>\n",
              "      <td>K-12 student</td>\n",
              "    </tr>\n",
              "    <tr>\n",
              "      <th>1</th>\n",
              "      <td>2</td>\n",
              "      <td>M</td>\n",
              "      <td>70072</td>\n",
              "      <td>56+</td>\n",
              "      <td>self-employed</td>\n",
              "    </tr>\n",
              "    <tr>\n",
              "      <th>2</th>\n",
              "      <td>3</td>\n",
              "      <td>M</td>\n",
              "      <td>55117</td>\n",
              "      <td>25-34</td>\n",
              "      <td>scientist</td>\n",
              "    </tr>\n",
              "    <tr>\n",
              "      <th>3</th>\n",
              "      <td>4</td>\n",
              "      <td>M</td>\n",
              "      <td>2460</td>\n",
              "      <td>45-49</td>\n",
              "      <td>executive/managerial</td>\n",
              "    </tr>\n",
              "    <tr>\n",
              "      <th>4</th>\n",
              "      <td>5</td>\n",
              "      <td>M</td>\n",
              "      <td>55455</td>\n",
              "      <td>25-34</td>\n",
              "      <td>writer</td>\n",
              "    </tr>\n",
              "  </tbody>\n",
              "</table>\n",
              "</div>"
            ],
            "text/plain": [
              "   user_id gender  zipcode  age_desc              occ_desc\n",
              "0        1      F    48067  Under 18          K-12 student\n",
              "1        2      M    70072       56+         self-employed\n",
              "2        3      M    55117     25-34             scientist\n",
              "3        4      M     2460     45-49  executive/managerial\n",
              "4        5      M    55455     25-34                writer"
            ]
          },
          "metadata": {
            "tags": []
          },
          "execution_count": 84
        }
      ]
    },
    {
      "cell_type": "code",
      "metadata": {
        "id": "j2G1oCh3Pk-C",
        "colab_type": "code",
        "outputId": "f1df00e9-0bb6-4893-aa3a-dde387f87391",
        "colab": {
          "base_uri": "https://localhost:8080/",
          "height": 204
        }
      },
      "source": [
        "movies.head(5)"
      ],
      "execution_count": 85,
      "outputs": [
        {
          "output_type": "execute_result",
          "data": {
            "text/html": [
              "<div>\n",
              "<style scoped>\n",
              "    .dataframe tbody tr th:only-of-type {\n",
              "        vertical-align: middle;\n",
              "    }\n",
              "\n",
              "    .dataframe tbody tr th {\n",
              "        vertical-align: top;\n",
              "    }\n",
              "\n",
              "    .dataframe thead th {\n",
              "        text-align: right;\n",
              "    }\n",
              "</style>\n",
              "<table border=\"1\" class=\"dataframe\">\n",
              "  <thead>\n",
              "    <tr style=\"text-align: right;\">\n",
              "      <th></th>\n",
              "      <th>movie_id</th>\n",
              "      <th>title</th>\n",
              "      <th>genres</th>\n",
              "    </tr>\n",
              "  </thead>\n",
              "  <tbody>\n",
              "    <tr>\n",
              "      <th>0</th>\n",
              "      <td>1</td>\n",
              "      <td>Toy Story (1995)</td>\n",
              "      <td>Animation|Children's|Comedy</td>\n",
              "    </tr>\n",
              "    <tr>\n",
              "      <th>1</th>\n",
              "      <td>2</td>\n",
              "      <td>Jumanji (1995)</td>\n",
              "      <td>Adventure|Children's|Fantasy</td>\n",
              "    </tr>\n",
              "    <tr>\n",
              "      <th>2</th>\n",
              "      <td>3</td>\n",
              "      <td>Grumpier Old Men (1995)</td>\n",
              "      <td>Comedy|Romance</td>\n",
              "    </tr>\n",
              "    <tr>\n",
              "      <th>3</th>\n",
              "      <td>4</td>\n",
              "      <td>Waiting to Exhale (1995)</td>\n",
              "      <td>Comedy|Drama</td>\n",
              "    </tr>\n",
              "    <tr>\n",
              "      <th>4</th>\n",
              "      <td>5</td>\n",
              "      <td>Father of the Bride Part II (1995)</td>\n",
              "      <td>Comedy</td>\n",
              "    </tr>\n",
              "  </tbody>\n",
              "</table>\n",
              "</div>"
            ],
            "text/plain": [
              "   movie_id                               title                        genres\n",
              "0         1                    Toy Story (1995)   Animation|Children's|Comedy\n",
              "1         2                      Jumanji (1995)  Adventure|Children's|Fantasy\n",
              "2         3             Grumpier Old Men (1995)                Comedy|Romance\n",
              "3         4            Waiting to Exhale (1995)                  Comedy|Drama\n",
              "4         5  Father of the Bride Part II (1995)                        Comedy"
            ]
          },
          "metadata": {
            "tags": []
          },
          "execution_count": 85
        }
      ]
    },
    {
      "cell_type": "markdown",
      "metadata": {
        "id": "FqXnqY-tPTME",
        "colab_type": "text"
      },
      "source": [
        "## Content-Based Recommendation Model\n",
        "\n",
        "Computes similarity between movies based on movie genres. It will suggest movies that are most similar to a particular movie based on its genre."
      ]
    },
    {
      "cell_type": "code",
      "metadata": {
        "id": "wgfAet3cPTMF",
        "colab_type": "code",
        "outputId": "82daf8f9-429a-45f9-cfcd-733a76bb10f2",
        "colab": {
          "base_uri": "https://localhost:8080/",
          "height": 221
        }
      },
      "source": [
        "# Break up the big genre string into a string array\n",
        "movies['genres'] = movies['genres'].apply(lambda x: str(x).split('|'))\n",
        "print(movies.shape)\n",
        "movies.head(5)"
      ],
      "execution_count": 86,
      "outputs": [
        {
          "output_type": "stream",
          "text": [
            "(100, 3)\n"
          ],
          "name": "stdout"
        },
        {
          "output_type": "execute_result",
          "data": {
            "text/html": [
              "<div>\n",
              "<style scoped>\n",
              "    .dataframe tbody tr th:only-of-type {\n",
              "        vertical-align: middle;\n",
              "    }\n",
              "\n",
              "    .dataframe tbody tr th {\n",
              "        vertical-align: top;\n",
              "    }\n",
              "\n",
              "    .dataframe thead th {\n",
              "        text-align: right;\n",
              "    }\n",
              "</style>\n",
              "<table border=\"1\" class=\"dataframe\">\n",
              "  <thead>\n",
              "    <tr style=\"text-align: right;\">\n",
              "      <th></th>\n",
              "      <th>movie_id</th>\n",
              "      <th>title</th>\n",
              "      <th>genres</th>\n",
              "    </tr>\n",
              "  </thead>\n",
              "  <tbody>\n",
              "    <tr>\n",
              "      <th>0</th>\n",
              "      <td>1</td>\n",
              "      <td>Toy Story (1995)</td>\n",
              "      <td>[Animation, Children's, Comedy]</td>\n",
              "    </tr>\n",
              "    <tr>\n",
              "      <th>1</th>\n",
              "      <td>2</td>\n",
              "      <td>Jumanji (1995)</td>\n",
              "      <td>[Adventure, Children's, Fantasy]</td>\n",
              "    </tr>\n",
              "    <tr>\n",
              "      <th>2</th>\n",
              "      <td>3</td>\n",
              "      <td>Grumpier Old Men (1995)</td>\n",
              "      <td>[Comedy, Romance]</td>\n",
              "    </tr>\n",
              "    <tr>\n",
              "      <th>3</th>\n",
              "      <td>4</td>\n",
              "      <td>Waiting to Exhale (1995)</td>\n",
              "      <td>[Comedy, Drama]</td>\n",
              "    </tr>\n",
              "    <tr>\n",
              "      <th>4</th>\n",
              "      <td>5</td>\n",
              "      <td>Father of the Bride Part II (1995)</td>\n",
              "      <td>[Comedy]</td>\n",
              "    </tr>\n",
              "  </tbody>\n",
              "</table>\n",
              "</div>"
            ],
            "text/plain": [
              "   movie_id  ...                            genres\n",
              "0         1  ...   [Animation, Children's, Comedy]\n",
              "1         2  ...  [Adventure, Children's, Fantasy]\n",
              "2         3  ...                 [Comedy, Romance]\n",
              "3         4  ...                   [Comedy, Drama]\n",
              "4         5  ...                          [Comedy]\n",
              "\n",
              "[5 rows x 3 columns]"
            ]
          },
          "metadata": {
            "tags": []
          },
          "execution_count": 86
        }
      ]
    },
    {
      "cell_type": "code",
      "metadata": {
        "id": "5Gwz7QCzPTMJ",
        "colab_type": "code",
        "outputId": "c306039a-7825-4c26-ae79-d33746f62da1",
        "colab": {
          "base_uri": "https://localhost:8080/",
          "height": 204
        }
      },
      "source": [
        "# Convert genres to string value\n",
        "movies['genres'] = movies['genres'].fillna(\"\").astype('str')\n",
        "movies.head(5)"
      ],
      "execution_count": 87,
      "outputs": [
        {
          "output_type": "execute_result",
          "data": {
            "text/html": [
              "<div>\n",
              "<style scoped>\n",
              "    .dataframe tbody tr th:only-of-type {\n",
              "        vertical-align: middle;\n",
              "    }\n",
              "\n",
              "    .dataframe tbody tr th {\n",
              "        vertical-align: top;\n",
              "    }\n",
              "\n",
              "    .dataframe thead th {\n",
              "        text-align: right;\n",
              "    }\n",
              "</style>\n",
              "<table border=\"1\" class=\"dataframe\">\n",
              "  <thead>\n",
              "    <tr style=\"text-align: right;\">\n",
              "      <th></th>\n",
              "      <th>movie_id</th>\n",
              "      <th>title</th>\n",
              "      <th>genres</th>\n",
              "    </tr>\n",
              "  </thead>\n",
              "  <tbody>\n",
              "    <tr>\n",
              "      <th>0</th>\n",
              "      <td>1</td>\n",
              "      <td>Toy Story (1995)</td>\n",
              "      <td>['Animation', \"Children's\", 'Comedy']</td>\n",
              "    </tr>\n",
              "    <tr>\n",
              "      <th>1</th>\n",
              "      <td>2</td>\n",
              "      <td>Jumanji (1995)</td>\n",
              "      <td>['Adventure', \"Children's\", 'Fantasy']</td>\n",
              "    </tr>\n",
              "    <tr>\n",
              "      <th>2</th>\n",
              "      <td>3</td>\n",
              "      <td>Grumpier Old Men (1995)</td>\n",
              "      <td>['Comedy', 'Romance']</td>\n",
              "    </tr>\n",
              "    <tr>\n",
              "      <th>3</th>\n",
              "      <td>4</td>\n",
              "      <td>Waiting to Exhale (1995)</td>\n",
              "      <td>['Comedy', 'Drama']</td>\n",
              "    </tr>\n",
              "    <tr>\n",
              "      <th>4</th>\n",
              "      <td>5</td>\n",
              "      <td>Father of the Bride Part II (1995)</td>\n",
              "      <td>['Comedy']</td>\n",
              "    </tr>\n",
              "  </tbody>\n",
              "</table>\n",
              "</div>"
            ],
            "text/plain": [
              "   movie_id  ...                                  genres\n",
              "0         1  ...   ['Animation', \"Children's\", 'Comedy']\n",
              "1         2  ...  ['Adventure', \"Children's\", 'Fantasy']\n",
              "2         3  ...                   ['Comedy', 'Romance']\n",
              "3         4  ...                     ['Comedy', 'Drama']\n",
              "4         5  ...                              ['Comedy']\n",
              "\n",
              "[5 rows x 3 columns]"
            ]
          },
          "metadata": {
            "tags": []
          },
          "execution_count": 87
        }
      ]
    },
    {
      "cell_type": "code",
      "metadata": {
        "id": "MVa3KOHSPTMN",
        "colab_type": "code",
        "outputId": "077233c9-6bc5-40bd-ce7e-c77e94cd97d4",
        "colab": {
          "base_uri": "https://localhost:8080/",
          "height": 34
        }
      },
      "source": [
        "from sklearn.feature_extraction.text import TfidfVectorizer\n",
        "tf = TfidfVectorizer(analyzer='word',ngram_range=(1, 2),min_df=0, stop_words='english')\n",
        "tfidf_matrix = tf.fit_transform(movies['genres'])\n",
        "tfidf_matrix.shape"
      ],
      "execution_count": 88,
      "outputs": [
        {
          "output_type": "execute_result",
          "data": {
            "text/plain": [
              "(100, 45)"
            ]
          },
          "metadata": {
            "tags": []
          },
          "execution_count": 88
        }
      ]
    },
    {
      "cell_type": "code",
      "metadata": {
        "id": "DHA9km7APTMR",
        "colab_type": "code",
        "outputId": "9782825d-82a8-4ec5-8c8c-8264f3e5833e",
        "colab": {
          "base_uri": "https://localhost:8080/",
          "height": 51
        }
      },
      "source": [
        "tfidf_matrix"
      ],
      "execution_count": 89,
      "outputs": [
        {
          "output_type": "execute_result",
          "data": {
            "text/plain": [
              "<100x45 sparse matrix of type '<class 'numpy.float64'>'\n",
              "\twith 246 stored elements in Compressed Sparse Row format>"
            ]
          },
          "metadata": {
            "tags": []
          },
          "execution_count": 89
        }
      ]
    },
    {
      "cell_type": "code",
      "metadata": {
        "id": "0mUvr7cEPTMY",
        "colab_type": "code",
        "outputId": "6daadb9e-05c1-42ac-8c90-ad0cd2291406",
        "colab": {
          "base_uri": "https://localhost:8080/",
          "height": 238
        }
      },
      "source": [
        "from sklearn.metrics.pairwise import linear_kernel\n",
        "cosine_sim = linear_kernel(tfidf_matrix, tfidf_matrix)\n",
        "#cosine_sim[:4, :4]\n",
        "cosine_sim"
      ],
      "execution_count": 90,
      "outputs": [
        {
          "output_type": "execute_result",
          "data": {
            "text/plain": [
              "array([[1.        , 0.15337409, 0.12551391, ..., 0.        , 0.        ,\n",
              "        0.        ],\n",
              "       [0.15337409, 1.        , 0.        , ..., 0.        , 0.        ,\n",
              "        0.        ],\n",
              "       [0.12551391, 0.        , 1.        , ..., 0.        , 0.        ,\n",
              "        0.        ],\n",
              "       ...,\n",
              "       [0.        , 0.        , 0.        , ..., 1.        , 0.        ,\n",
              "        0.25861841],\n",
              "       [0.        , 0.        , 0.        , ..., 0.        , 1.        ,\n",
              "        0.        ],\n",
              "       [0.        , 0.        , 0.        , ..., 0.25861841, 0.        ,\n",
              "        1.        ]])"
            ]
          },
          "metadata": {
            "tags": []
          },
          "execution_count": 90
        }
      ]
    },
    {
      "cell_type": "code",
      "metadata": {
        "id": "3YH6ufBXPTMb",
        "colab_type": "code",
        "outputId": "64cd2546-8b17-45d2-c454-02980eda74b4",
        "colab": {
          "base_uri": "https://localhost:8080/",
          "height": 669
        }
      },
      "source": [
        "# Build a 1-dimensional array with movie titles\n",
        "titles = movies['title']\n",
        "indices = pd.Series(movies.index, index=movies['title'])\n",
        "\n",
        "#TODO: Function that get movie recommendations based on the cosine similarity score of movie genres\n",
        "def genre_recommendations(title):\n",
        "    id = np.where(titles==title)[0][0]\n",
        "    rec = sorted(titles, key=lambda x: -cosine_sim[id][np.where(titles==x)[0][0]])\n",
        "    rec = rec[1:]\n",
        "    result = pd.DataFrame(columns=[\"ID\", \"Title\"])\n",
        "    while len(rec) > 0:\n",
        "      top = rec[0]\n",
        "      rec = rec[1:]\n",
        "      result = result.append({\"ID\": np.where(titles==top)[0][0], \"Title\": top}, ignore_index=True)\n",
        "\n",
        "    return result\n",
        "genre_recommendations('Toy Story (1995)').head(20)"
      ],
      "execution_count": 91,
      "outputs": [
        {
          "output_type": "execute_result",
          "data": {
            "text/html": [
              "<div>\n",
              "<style scoped>\n",
              "    .dataframe tbody tr th:only-of-type {\n",
              "        vertical-align: middle;\n",
              "    }\n",
              "\n",
              "    .dataframe tbody tr th {\n",
              "        vertical-align: top;\n",
              "    }\n",
              "\n",
              "    .dataframe thead th {\n",
              "        text-align: right;\n",
              "    }\n",
              "</style>\n",
              "<table border=\"1\" class=\"dataframe\">\n",
              "  <thead>\n",
              "    <tr style=\"text-align: right;\">\n",
              "      <th></th>\n",
              "      <th>ID</th>\n",
              "      <th>Title</th>\n",
              "    </tr>\n",
              "  </thead>\n",
              "  <tbody>\n",
              "    <tr>\n",
              "      <th>0</th>\n",
              "      <td>12</td>\n",
              "      <td>Balto (1995)</td>\n",
              "    </tr>\n",
              "    <tr>\n",
              "      <th>1</th>\n",
              "      <td>86</td>\n",
              "      <td>Dunston Checks In (1996)</td>\n",
              "    </tr>\n",
              "    <tr>\n",
              "      <th>2</th>\n",
              "      <td>33</td>\n",
              "      <td>Babe (1995)</td>\n",
              "    </tr>\n",
              "    <tr>\n",
              "      <th>3</th>\n",
              "      <td>47</td>\n",
              "      <td>Pocahontas (1995)</td>\n",
              "    </tr>\n",
              "    <tr>\n",
              "      <th>4</th>\n",
              "      <td>4</td>\n",
              "      <td>Father of the Bride Part II (1995)</td>\n",
              "    </tr>\n",
              "    <tr>\n",
              "      <th>5</th>\n",
              "      <td>18</td>\n",
              "      <td>Ace Ventura: When Nature Calls (1995)</td>\n",
              "    </tr>\n",
              "    <tr>\n",
              "      <th>6</th>\n",
              "      <td>37</td>\n",
              "      <td>It Takes Two (1995)</td>\n",
              "    </tr>\n",
              "    <tr>\n",
              "      <th>7</th>\n",
              "      <td>51</td>\n",
              "      <td>Mighty Aphrodite (1995)</td>\n",
              "    </tr>\n",
              "    <tr>\n",
              "      <th>8</th>\n",
              "      <td>62</td>\n",
              "      <td>Don't Be a Menace to South Central While Drink...</td>\n",
              "    </tr>\n",
              "    <tr>\n",
              "      <th>9</th>\n",
              "      <td>64</td>\n",
              "      <td>Bio-Dome (1996)</td>\n",
              "    </tr>\n",
              "    <tr>\n",
              "      <th>10</th>\n",
              "      <td>68</td>\n",
              "      <td>Friday (1995)</td>\n",
              "    </tr>\n",
              "    <tr>\n",
              "      <th>11</th>\n",
              "      <td>87</td>\n",
              "      <td>Black Sheep (1996)</td>\n",
              "    </tr>\n",
              "    <tr>\n",
              "      <th>12</th>\n",
              "      <td>95</td>\n",
              "      <td>In the Bleak Midwinter (1995)</td>\n",
              "    </tr>\n",
              "    <tr>\n",
              "      <th>13</th>\n",
              "      <td>7</td>\n",
              "      <td>Tom and Huck (1995)</td>\n",
              "    </tr>\n",
              "    <tr>\n",
              "      <th>14</th>\n",
              "      <td>1</td>\n",
              "      <td>Jumanji (1995)</td>\n",
              "    </tr>\n",
              "    <tr>\n",
              "      <th>15</th>\n",
              "      <td>55</td>\n",
              "      <td>Kids of the Round Table (1995)</td>\n",
              "    </tr>\n",
              "    <tr>\n",
              "      <th>16</th>\n",
              "      <td>3</td>\n",
              "      <td>Waiting to Exhale (1995)</td>\n",
              "    </tr>\n",
              "    <tr>\n",
              "      <th>17</th>\n",
              "      <td>44</td>\n",
              "      <td>To Die For (1995)</td>\n",
              "    </tr>\n",
              "    <tr>\n",
              "      <th>18</th>\n",
              "      <td>71</td>\n",
              "      <td>Kicking and Screaming (1995)</td>\n",
              "    </tr>\n",
              "    <tr>\n",
              "      <th>19</th>\n",
              "      <td>74</td>\n",
              "      <td>Big Bully (1996)</td>\n",
              "    </tr>\n",
              "  </tbody>\n",
              "</table>\n",
              "</div>"
            ],
            "text/plain": [
              "    ID                                              Title\n",
              "0   12                                       Balto (1995)\n",
              "1   86                           Dunston Checks In (1996)\n",
              "2   33                                        Babe (1995)\n",
              "3   47                                  Pocahontas (1995)\n",
              "4    4                 Father of the Bride Part II (1995)\n",
              "5   18              Ace Ventura: When Nature Calls (1995)\n",
              "6   37                                It Takes Two (1995)\n",
              "7   51                            Mighty Aphrodite (1995)\n",
              "8   62  Don't Be a Menace to South Central While Drink...\n",
              "9   64                                    Bio-Dome (1996)\n",
              "10  68                                      Friday (1995)\n",
              "11  87                                 Black Sheep (1996)\n",
              "12  95                      In the Bleak Midwinter (1995)\n",
              "13   7                                Tom and Huck (1995)\n",
              "14   1                                     Jumanji (1995)\n",
              "15  55                     Kids of the Round Table (1995)\n",
              "16   3                           Waiting to Exhale (1995)\n",
              "17  44                                  To Die For (1995)\n",
              "18  71                       Kicking and Screaming (1995)\n",
              "19  74                                   Big Bully (1996)"
            ]
          },
          "metadata": {
            "tags": []
          },
          "execution_count": 91
        }
      ]
    },
    {
      "cell_type": "markdown",
      "metadata": {
        "id": "VvqTs3RPPTMe",
        "colab_type": "text"
      },
      "source": [
        "Let's try and get the top recommendations for a few movies and see how good the recommendations are."
      ]
    },
    {
      "cell_type": "code",
      "metadata": {
        "id": "QXucpYkoPTMf",
        "colab_type": "code",
        "outputId": "02829968-d472-483f-9cd9-ed4fe723b538",
        "colab": {
          "base_uri": "https://localhost:8080/",
          "height": 669
        }
      },
      "source": [
        "genre_recommendations('Toy Story (1995)').head(20)"
      ],
      "execution_count": 92,
      "outputs": [
        {
          "output_type": "execute_result",
          "data": {
            "text/html": [
              "<div>\n",
              "<style scoped>\n",
              "    .dataframe tbody tr th:only-of-type {\n",
              "        vertical-align: middle;\n",
              "    }\n",
              "\n",
              "    .dataframe tbody tr th {\n",
              "        vertical-align: top;\n",
              "    }\n",
              "\n",
              "    .dataframe thead th {\n",
              "        text-align: right;\n",
              "    }\n",
              "</style>\n",
              "<table border=\"1\" class=\"dataframe\">\n",
              "  <thead>\n",
              "    <tr style=\"text-align: right;\">\n",
              "      <th></th>\n",
              "      <th>ID</th>\n",
              "      <th>Title</th>\n",
              "    </tr>\n",
              "  </thead>\n",
              "  <tbody>\n",
              "    <tr>\n",
              "      <th>0</th>\n",
              "      <td>12</td>\n",
              "      <td>Balto (1995)</td>\n",
              "    </tr>\n",
              "    <tr>\n",
              "      <th>1</th>\n",
              "      <td>86</td>\n",
              "      <td>Dunston Checks In (1996)</td>\n",
              "    </tr>\n",
              "    <tr>\n",
              "      <th>2</th>\n",
              "      <td>33</td>\n",
              "      <td>Babe (1995)</td>\n",
              "    </tr>\n",
              "    <tr>\n",
              "      <th>3</th>\n",
              "      <td>47</td>\n",
              "      <td>Pocahontas (1995)</td>\n",
              "    </tr>\n",
              "    <tr>\n",
              "      <th>4</th>\n",
              "      <td>4</td>\n",
              "      <td>Father of the Bride Part II (1995)</td>\n",
              "    </tr>\n",
              "    <tr>\n",
              "      <th>5</th>\n",
              "      <td>18</td>\n",
              "      <td>Ace Ventura: When Nature Calls (1995)</td>\n",
              "    </tr>\n",
              "    <tr>\n",
              "      <th>6</th>\n",
              "      <td>37</td>\n",
              "      <td>It Takes Two (1995)</td>\n",
              "    </tr>\n",
              "    <tr>\n",
              "      <th>7</th>\n",
              "      <td>51</td>\n",
              "      <td>Mighty Aphrodite (1995)</td>\n",
              "    </tr>\n",
              "    <tr>\n",
              "      <th>8</th>\n",
              "      <td>62</td>\n",
              "      <td>Don't Be a Menace to South Central While Drink...</td>\n",
              "    </tr>\n",
              "    <tr>\n",
              "      <th>9</th>\n",
              "      <td>64</td>\n",
              "      <td>Bio-Dome (1996)</td>\n",
              "    </tr>\n",
              "    <tr>\n",
              "      <th>10</th>\n",
              "      <td>68</td>\n",
              "      <td>Friday (1995)</td>\n",
              "    </tr>\n",
              "    <tr>\n",
              "      <th>11</th>\n",
              "      <td>87</td>\n",
              "      <td>Black Sheep (1996)</td>\n",
              "    </tr>\n",
              "    <tr>\n",
              "      <th>12</th>\n",
              "      <td>95</td>\n",
              "      <td>In the Bleak Midwinter (1995)</td>\n",
              "    </tr>\n",
              "    <tr>\n",
              "      <th>13</th>\n",
              "      <td>7</td>\n",
              "      <td>Tom and Huck (1995)</td>\n",
              "    </tr>\n",
              "    <tr>\n",
              "      <th>14</th>\n",
              "      <td>1</td>\n",
              "      <td>Jumanji (1995)</td>\n",
              "    </tr>\n",
              "    <tr>\n",
              "      <th>15</th>\n",
              "      <td>55</td>\n",
              "      <td>Kids of the Round Table (1995)</td>\n",
              "    </tr>\n",
              "    <tr>\n",
              "      <th>16</th>\n",
              "      <td>3</td>\n",
              "      <td>Waiting to Exhale (1995)</td>\n",
              "    </tr>\n",
              "    <tr>\n",
              "      <th>17</th>\n",
              "      <td>44</td>\n",
              "      <td>To Die For (1995)</td>\n",
              "    </tr>\n",
              "    <tr>\n",
              "      <th>18</th>\n",
              "      <td>71</td>\n",
              "      <td>Kicking and Screaming (1995)</td>\n",
              "    </tr>\n",
              "    <tr>\n",
              "      <th>19</th>\n",
              "      <td>74</td>\n",
              "      <td>Big Bully (1996)</td>\n",
              "    </tr>\n",
              "  </tbody>\n",
              "</table>\n",
              "</div>"
            ],
            "text/plain": [
              "    ID                                              Title\n",
              "0   12                                       Balto (1995)\n",
              "1   86                           Dunston Checks In (1996)\n",
              "2   33                                        Babe (1995)\n",
              "3   47                                  Pocahontas (1995)\n",
              "4    4                 Father of the Bride Part II (1995)\n",
              "5   18              Ace Ventura: When Nature Calls (1995)\n",
              "6   37                                It Takes Two (1995)\n",
              "7   51                            Mighty Aphrodite (1995)\n",
              "8   62  Don't Be a Menace to South Central While Drink...\n",
              "9   64                                    Bio-Dome (1996)\n",
              "10  68                                      Friday (1995)\n",
              "11  87                                 Black Sheep (1996)\n",
              "12  95                      In the Bleak Midwinter (1995)\n",
              "13   7                                Tom and Huck (1995)\n",
              "14   1                                     Jumanji (1995)\n",
              "15  55                     Kids of the Round Table (1995)\n",
              "16   3                           Waiting to Exhale (1995)\n",
              "17  44                                  To Die For (1995)\n",
              "18  71                       Kicking and Screaming (1995)\n",
              "19  74                                   Big Bully (1996)"
            ]
          },
          "metadata": {
            "tags": []
          },
          "execution_count": 92
        }
      ]
    },
    {
      "cell_type": "markdown",
      "metadata": {
        "id": "nbRRaeLYPTMj",
        "colab_type": "text"
      },
      "source": [
        "## Collaborative Filtering Recommendation Model\n",
        "\n",
        "\n",
        "Use the file **ratings.csv** first as it contains User ID, Movie IDs and Ratings. These three elements are all needed for determining the similarity of the users based on their ratings for a particular movie.\n"
      ]
    },
    {
      "cell_type": "code",
      "metadata": {
        "id": "Rr2J6MVhPTMk",
        "colab_type": "code",
        "outputId": "991bc59a-833e-4137-f2d8-e1dd7ccf099e",
        "colab": {
          "base_uri": "https://localhost:8080/",
          "height": 419
        }
      },
      "source": [
        "# Fill NaN values in user_id and movie_id column with 0\n",
        "ratings['user_id'] = ratings['user_id'].fillna(0)\n",
        "ratings['movie_id'] = ratings['movie_id'].fillna(0)\n",
        "\n",
        "# Replace NaN values in rating column with average of all values\n",
        "ratings['rating'] = ratings['rating'].fillna(ratings['rating'].mean())\n",
        "ratings"
      ],
      "execution_count": 93,
      "outputs": [
        {
          "output_type": "execute_result",
          "data": {
            "text/html": [
              "<div>\n",
              "<style scoped>\n",
              "    .dataframe tbody tr th:only-of-type {\n",
              "        vertical-align: middle;\n",
              "    }\n",
              "\n",
              "    .dataframe tbody tr th {\n",
              "        vertical-align: top;\n",
              "    }\n",
              "\n",
              "    .dataframe thead th {\n",
              "        text-align: right;\n",
              "    }\n",
              "</style>\n",
              "<table border=\"1\" class=\"dataframe\">\n",
              "  <thead>\n",
              "    <tr style=\"text-align: right;\">\n",
              "      <th></th>\n",
              "      <th>user_id</th>\n",
              "      <th>movie_id</th>\n",
              "      <th>rating</th>\n",
              "    </tr>\n",
              "  </thead>\n",
              "  <tbody>\n",
              "    <tr>\n",
              "      <th>0</th>\n",
              "      <td>1</td>\n",
              "      <td>1</td>\n",
              "      <td>3</td>\n",
              "    </tr>\n",
              "    <tr>\n",
              "      <th>1</th>\n",
              "      <td>1</td>\n",
              "      <td>3</td>\n",
              "      <td>5</td>\n",
              "    </tr>\n",
              "    <tr>\n",
              "      <th>2</th>\n",
              "      <td>1</td>\n",
              "      <td>4</td>\n",
              "      <td>4</td>\n",
              "    </tr>\n",
              "    <tr>\n",
              "      <th>3</th>\n",
              "      <td>1</td>\n",
              "      <td>5</td>\n",
              "      <td>3</td>\n",
              "    </tr>\n",
              "    <tr>\n",
              "      <th>4</th>\n",
              "      <td>1</td>\n",
              "      <td>6</td>\n",
              "      <td>3</td>\n",
              "    </tr>\n",
              "    <tr>\n",
              "      <th>...</th>\n",
              "      <td>...</td>\n",
              "      <td>...</td>\n",
              "      <td>...</td>\n",
              "    </tr>\n",
              "    <tr>\n",
              "      <th>7507</th>\n",
              "      <td>100</td>\n",
              "      <td>96</td>\n",
              "      <td>4</td>\n",
              "    </tr>\n",
              "    <tr>\n",
              "      <th>7508</th>\n",
              "      <td>100</td>\n",
              "      <td>97</td>\n",
              "      <td>4</td>\n",
              "    </tr>\n",
              "    <tr>\n",
              "      <th>7509</th>\n",
              "      <td>100</td>\n",
              "      <td>98</td>\n",
              "      <td>5</td>\n",
              "    </tr>\n",
              "    <tr>\n",
              "      <th>7510</th>\n",
              "      <td>100</td>\n",
              "      <td>99</td>\n",
              "      <td>5</td>\n",
              "    </tr>\n",
              "    <tr>\n",
              "      <th>7511</th>\n",
              "      <td>100</td>\n",
              "      <td>100</td>\n",
              "      <td>5</td>\n",
              "    </tr>\n",
              "  </tbody>\n",
              "</table>\n",
              "<p>7512 rows × 3 columns</p>\n",
              "</div>"
            ],
            "text/plain": [
              "      user_id  movie_id  rating\n",
              "0           1         1       3\n",
              "1           1         3       5\n",
              "2           1         4       4\n",
              "3           1         5       3\n",
              "4           1         6       3\n",
              "...       ...       ...     ...\n",
              "7507      100        96       4\n",
              "7508      100        97       4\n",
              "7509      100        98       5\n",
              "7510      100        99       5\n",
              "7511      100       100       5\n",
              "\n",
              "[7512 rows x 3 columns]"
            ]
          },
          "metadata": {
            "tags": []
          },
          "execution_count": 93
        }
      ]
    },
    {
      "cell_type": "markdown",
      "metadata": {
        "id": "w1TbwwOGPTMo",
        "colab_type": "text"
      },
      "source": [
        "Take a random sample of 20,000 ratings (2%) (due to limitation of personal laptop)"
      ]
    },
    {
      "cell_type": "code",
      "metadata": {
        "id": "dp1kHPDjPTMp",
        "colab_type": "code",
        "outputId": "2b2e89ff-cf15-430d-bfff-7e2aae595a89",
        "colab": {
          "base_uri": "https://localhost:8080/",
          "height": 170
        }
      },
      "source": [
        "# Randomly sample 1% of the ratings dataset\n",
        "small_data = ratings.sample(frac=0.02)\n",
        "# Check the sample info\n",
        "print(small_data.info())"
      ],
      "execution_count": 94,
      "outputs": [
        {
          "output_type": "stream",
          "text": [
            "<class 'pandas.core.frame.DataFrame'>\n",
            "Int64Index: 150 entries, 2765 to 3932\n",
            "Data columns (total 3 columns):\n",
            "user_id     150 non-null int64\n",
            "movie_id    150 non-null int64\n",
            "rating      150 non-null int64\n",
            "dtypes: int64(3)\n",
            "memory usage: 4.7 KB\n",
            "None\n"
          ],
          "name": "stdout"
        }
      ]
    },
    {
      "cell_type": "code",
      "metadata": {
        "id": "h-uVzCXsPTMt",
        "colab_type": "code",
        "colab": {}
      },
      "source": [
        "from sklearn.model_selection import train_test_split\n",
        "train_data, test_data = train_test_split(small_data, test_size=0.2)"
      ],
      "execution_count": 0,
      "outputs": []
    },
    {
      "cell_type": "code",
      "metadata": {
        "id": "tVUFQU7vPTMw",
        "colab_type": "code",
        "outputId": "4b3f6f97-95e1-4bfe-f5a6-5304173fb3e5",
        "colab": {
          "base_uri": "https://localhost:8080/",
          "height": 190
        }
      },
      "source": [
        "# Create two user-item matrices, one for training and another for testing\n",
        "train_data_matrix = train_data.as_matrix(columns = ['user_id', 'movie_id', 'rating'])\n",
        "test_data_matrix = test_data.as_matrix(columns = ['user_id', 'movie_id', 'rating'])\n",
        "\n",
        "# Check their shape\n",
        "print(train_data_matrix.shape)\n",
        "print(test_data_matrix[:4, :4])"
      ],
      "execution_count": 103,
      "outputs": [
        {
          "output_type": "stream",
          "text": [
            "(120, 3)\n",
            "[[ 2 80  3]\n",
            " [96 14  3]\n",
            " [62  9  4]\n",
            " [79 30  5]]\n"
          ],
          "name": "stdout"
        },
        {
          "output_type": "stream",
          "text": [
            "/usr/local/lib/python3.6/dist-packages/ipykernel_launcher.py:1: FutureWarning: Method .as_matrix will be removed in a future version. Use .values instead.\n",
            "  \"\"\"Entry point for launching an IPython kernel.\n",
            "/usr/local/lib/python3.6/dist-packages/ipykernel_launcher.py:2: FutureWarning: Method .as_matrix will be removed in a future version. Use .values instead.\n",
            "  \n"
          ],
          "name": "stderr"
        }
      ]
    },
    {
      "cell_type": "markdown",
      "metadata": {
        "id": "6Pw0DVmePTMz",
        "colab_type": "text"
      },
      "source": [
        "Now I use the **pairwise_distances** function from sklearn [Pearson Correlation Coefficient](https://stackoverflow.com/questions/1838806/euclidean-distance-vs-pearson-correlation-vs-cosine-similarity). This method provides a safe way to take a distance matrix as input, while preserving compatibility with many other algorithms that take a vector array."
      ]
    },
    {
      "cell_type": "code",
      "metadata": {
        "id": "0nQyFfT7PTM1",
        "colab_type": "code",
        "outputId": "a08d8642-9ec3-4488-c7c9-202d3ff5f0cb",
        "colab": {
          "base_uri": "https://localhost:8080/",
          "height": 85
        }
      },
      "source": [
        "from sklearn.metrics.pairwise import pairwise_distances\n",
        "\n",
        "# User Similarity Matrix\n",
        "user_correlation = 1 - pairwise_distances(train_data, metric='correlation')\n",
        "user_correlation[np.isnan(user_correlation)] = 0\n",
        "print(user_correlation[:4, :4])"
      ],
      "execution_count": 97,
      "outputs": [
        {
          "output_type": "stream",
          "text": [
            "[[1.         0.74428238 0.99895282 0.99051878]\n",
            " [0.74428238 1.         0.77405931 0.64547613]\n",
            " [0.99895282 0.77405931 1.         0.9831962 ]\n",
            " [0.99051878 0.64547613 0.9831962  1.        ]]\n"
          ],
          "name": "stdout"
        }
      ]
    },
    {
      "cell_type": "code",
      "metadata": {
        "id": "FdsS7jA4PTM5",
        "colab_type": "code",
        "outputId": "acf0acff-3177-4dff-ed62-b9d311adc16b",
        "colab": {
          "base_uri": "https://localhost:8080/",
          "height": 68
        }
      },
      "source": [
        "# Item Similarity Matrix\n",
        "item_correlation = 1 - pairwise_distances(train_data_matrix.T, metric='correlation')\n",
        "item_correlation[np.isnan(item_correlation)] = 0\n",
        "print(item_correlation[:4, :4])"
      ],
      "execution_count": 98,
      "outputs": [
        {
          "output_type": "stream",
          "text": [
            "[[ 1.          0.06982269 -0.10474043]\n",
            " [ 0.06982269  1.         -0.05820099]\n",
            " [-0.10474043 -0.05820099  1.        ]]\n"
          ],
          "name": "stdout"
        }
      ]
    },
    {
      "cell_type": "markdown",
      "metadata": {
        "id": "LtLZaAN8PTM8",
        "colab_type": "text"
      },
      "source": [
        "With the similarity matrix in hand, I can now predict the ratings that were not included with the data. Using these predictions, I can then compare them with the test data to attempt to validate the quality of our recommender model.\n",
        "\n",
        "For the user-user CF case, I will look at the similarity between 2 users (A and B, for example) as weights that are multiplied by the ratings of a similar user B (corrected for the average rating of that user)."
      ]
    },
    {
      "cell_type": "code",
      "metadata": {
        "id": "Xox9iLVNPTM9",
        "colab_type": "code",
        "colab": {}
      },
      "source": [
        "#TODO Function to predict ratings\n",
        "def predict(ratings, similarity, type='user'):\n",
        "    if type == 'user':\n",
        "        mean_user_rating = ratings.mean(axis=1)\n",
        "        rat_dif = (ratings - mean_user_rating[:, np.newaxis])\n",
        "        pred = mean_user_rating[:, np.newaxis] + similarity.dot(rat_dif) / np.array([np.abs(similarity).sum(axis=1)]).T\n",
        "    elif type == 'item':\n",
        "        pred = ratings.dot(similarity) / np.array([np.abs(similarity).sum(axis=1)])\n",
        "    return pred"
      ],
      "execution_count": 0,
      "outputs": []
    },
    {
      "cell_type": "code",
      "metadata": {
        "id": "S_UAPAFSPTNA",
        "colab_type": "code",
        "colab": {}
      },
      "source": [
        "from sklearn.metrics import mean_squared_error\n",
        "from math import sqrt\n",
        "\n",
        "# Function to calculate RMSE\n",
        "def rmse(pred, actual):\n",
        "    # Ignore nonzero terms.\n",
        "    pred = pred[actual.nonzero()].flatten()\n",
        "    print(pred)\n",
        "    actual = actual[actual.nonzero()].flatten()\n",
        "    return sqrt(mean_squared_error(pred, actual))"
      ],
      "execution_count": 0,
      "outputs": []
    },
    {
      "cell_type": "code",
      "metadata": {
        "id": "1SohAXEDPTNE",
        "colab_type": "code",
        "outputId": "e1940503-f4cb-4ce6-bc60-ceeb3af806b2",
        "colab": {
          "base_uri": "https://localhost:8080/",
          "height": 612
        }
      },
      "source": [
        "# Predict ratings on the training data with both similarity score\n",
        "user_prediction = predict(train_data_matrix, user_correlation, type='user')\n",
        "item_prediction = predict(train_data_matrix, item_correlation, type='item')\n",
        "\n",
        "# RMSE on the test data\n",
        "print('User-based CF RMSE: ' + str(rmse(user_prediction, test_data_matrix)))\n",
        "print('Item-based CF RMSE: ' + str(rmse(item_prediction, test_data_matrix)))"
      ],
      "execution_count": 106,
      "outputs": [
        {
          "output_type": "stream",
          "text": [
            "[ 59.58086123  51.67159992   3.74753885  58.72940945  27.61384837\n",
            "   6.65674218  54.87491324  45.66222755  -1.53714079  73.78339648\n",
            "  69.60845792  19.6081456   39.22773082  44.29451233 -10.52224316\n",
            "  66.36183456  41.74308892   9.89507652  22.61118177  52.99466423\n",
            "  -1.605846    47.82793597  61.43654733   2.7355167   43.70503632\n",
            "  10.49055786  -6.19559417  55.84411932  53.61189197   2.54398872\n",
            "  15.89068105  48.60844683  -3.49912788  68.33249468  65.09432712\n",
            "  14.5731782   60.72097613  50.4430692    3.83595468  63.2014341\n",
            "  64.28466192  11.51390397  71.78316461  64.14612457  16.07071082\n",
            "  34.98795098  40.53868359 -14.52663457  42.66491863  52.18458571\n",
            "  -4.84950434  75.7996333   75.67550709  23.52485961  37.00957931\n",
            "  63.40324257   5.58717812  45.76089657  31.02850431 -12.78940089\n",
            "  76.32183533  77.83482708  24.84333759  62.18727339  41.96604834\n",
            "   3.84667826  64.60660242  54.56631258   7.827085    66.33692286\n",
            "  56.16438912   9.49868802  59.71569812  74.7062061   15.57809578\n",
            "  64.01250409  60.74661631  10.2408796   70.52602738  74.99075266\n",
            "  20.48321996  37.09349447  62.169311     3.73719453  64.52478178\n",
            "  64.95539234  12.51982588 -13.95705854  27.52027584  -3.5632173 ]\n",
            "User-based CF RMSE: 25.448725297435363\n",
            "[58.65808409 44.70978344 -5.6667637  77.44588625  6.46765155 -7.38608165\n",
            " 50.43092135 37.00905399 -3.59591835 78.9340399  69.12070632 -8.9494014\n",
            " 29.38420544 36.45129499 -3.11411437 79.27810389 24.9913935  -5.94745486\n",
            "  8.70472909 57.83950626 -1.21373888 36.94889035 63.37657784 -3.52618401\n",
            " 36.31210619  3.34174885 -0.48329139 51.20371509 48.53363466 -4.24652114\n",
            "  4.61557691 48.67525565  0.50687372 69.0338338  63.01759724 -5.93863005\n",
            " 60.09333389 42.12246578 -4.83686626 61.96588887 66.21291997 -8.7677838\n",
            " 76.39902886 59.14215047 -6.49898409 23.77062951 29.8227665  -1.36351068\n",
            " 32.47334674 47.17187313 -2.26508901 77.7662793  79.53179321 -7.65005055\n",
            " 20.60490254 73.61159794 -1.51559632 33.15494378 20.71078617 -0.17400473\n",
            " 77.21212728 83.90242598 -7.81021729 66.01269185 29.32005871 -4.80669152\n",
            " 67.29077923 47.10177837 -6.66750741 71.84492037 49.28747312 -8.9377027\n",
            " 48.06772728 88.93122791 -6.77808691 62.71749711 57.26527224 -5.00789617\n",
            " 67.87667139 82.38663455 -7.62934339 21.51573948 72.00367487 -3.22534575\n",
            " 62.49030173 65.23352539 -6.22813692  0.94053256  5.22614886  2.1893223 ]\n",
            "Item-based CF RMSE: 24.701541513579485\n"
          ],
          "name": "stdout"
        }
      ]
    }
  ]
}