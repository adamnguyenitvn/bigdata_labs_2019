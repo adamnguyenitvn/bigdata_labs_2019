{
  "nbformat": 4,
  "nbformat_minor": 0,
  "metadata": {
    "colab": {
      "name": "1652758",
      "provenance": [],
      "collapsed_sections": []
    },
    "kernelspec": {
      "name": "python3",
      "display_name": "Python 3"
    }
  },
  "cells": [
    {
      "cell_type": "code",
      "metadata": {
        "id": "WPrlz9txgzD_",
        "colab_type": "code",
        "colab": {}
      },
      "source": [
        "import numpy as np\n",
        "import pandas as pd\n",
        "import matplotlib.pyplot as plt"
      ],
      "execution_count": 0,
      "outputs": []
    },
    {
      "cell_type": "code",
      "metadata": {
        "id": "Gcag6XdJg80I",
        "colab_type": "code",
        "colab": {
          "base_uri": "https://localhost:8080/",
          "height": 195
        },
        "outputId": "72732597-4590-4229-9c1a-04734bfce406"
      },
      "source": [
        "city_data = pd.read_csv('city_data.csv')\n",
        "city_data.head()"
      ],
      "execution_count": 12,
      "outputs": [
        {
          "output_type": "execute_result",
          "data": {
            "text/html": [
              "<div>\n",
              "<style scoped>\n",
              "    .dataframe tbody tr th:only-of-type {\n",
              "        vertical-align: middle;\n",
              "    }\n",
              "\n",
              "    .dataframe tbody tr th {\n",
              "        vertical-align: top;\n",
              "    }\n",
              "\n",
              "    .dataframe thead th {\n",
              "        text-align: right;\n",
              "    }\n",
              "</style>\n",
              "<table border=\"1\" class=\"dataframe\">\n",
              "  <thead>\n",
              "    <tr style=\"text-align: right;\">\n",
              "      <th></th>\n",
              "      <th>city</th>\n",
              "      <th>driver_count</th>\n",
              "      <th>type</th>\n",
              "    </tr>\n",
              "  </thead>\n",
              "  <tbody>\n",
              "    <tr>\n",
              "      <th>0</th>\n",
              "      <td>Richardfort</td>\n",
              "      <td>38</td>\n",
              "      <td>Urban</td>\n",
              "    </tr>\n",
              "    <tr>\n",
              "      <th>1</th>\n",
              "      <td>Williamsstad</td>\n",
              "      <td>59</td>\n",
              "      <td>Urban</td>\n",
              "    </tr>\n",
              "    <tr>\n",
              "      <th>2</th>\n",
              "      <td>Port Angela</td>\n",
              "      <td>67</td>\n",
              "      <td>Urban</td>\n",
              "    </tr>\n",
              "    <tr>\n",
              "      <th>3</th>\n",
              "      <td>Rodneyfort</td>\n",
              "      <td>34</td>\n",
              "      <td>Urban</td>\n",
              "    </tr>\n",
              "    <tr>\n",
              "      <th>4</th>\n",
              "      <td>West Robert</td>\n",
              "      <td>39</td>\n",
              "      <td>Urban</td>\n",
              "    </tr>\n",
              "  </tbody>\n",
              "</table>\n",
              "</div>"
            ],
            "text/plain": [
              "           city  driver_count   type\n",
              "0   Richardfort            38  Urban\n",
              "1  Williamsstad            59  Urban\n",
              "2   Port Angela            67  Urban\n",
              "3    Rodneyfort            34  Urban\n",
              "4   West Robert            39  Urban"
            ]
          },
          "metadata": {
            "tags": []
          },
          "execution_count": 12
        }
      ]
    },
    {
      "cell_type": "code",
      "metadata": {
        "id": "OgvGxgDqhEGJ",
        "colab_type": "code",
        "colab": {
          "base_uri": "https://localhost:8080/",
          "height": 195
        },
        "outputId": "f8d02e56-99a0-42b2-8e3a-88319b279106"
      },
      "source": [
        "ride_data = pd.read_csv('ride_data.csv')\n",
        "ride_data.head()"
      ],
      "execution_count": 13,
      "outputs": [
        {
          "output_type": "execute_result",
          "data": {
            "text/html": [
              "<div>\n",
              "<style scoped>\n",
              "    .dataframe tbody tr th:only-of-type {\n",
              "        vertical-align: middle;\n",
              "    }\n",
              "\n",
              "    .dataframe tbody tr th {\n",
              "        vertical-align: top;\n",
              "    }\n",
              "\n",
              "    .dataframe thead th {\n",
              "        text-align: right;\n",
              "    }\n",
              "</style>\n",
              "<table border=\"1\" class=\"dataframe\">\n",
              "  <thead>\n",
              "    <tr style=\"text-align: right;\">\n",
              "      <th></th>\n",
              "      <th>city</th>\n",
              "      <th>date</th>\n",
              "      <th>fare</th>\n",
              "      <th>ride_id</th>\n",
              "    </tr>\n",
              "  </thead>\n",
              "  <tbody>\n",
              "    <tr>\n",
              "      <th>0</th>\n",
              "      <td>Lake Jonathanshire</td>\n",
              "      <td>2018-01-14 10:14:22</td>\n",
              "      <td>13.83</td>\n",
              "      <td>5739410935873</td>\n",
              "    </tr>\n",
              "    <tr>\n",
              "      <th>1</th>\n",
              "      <td>South Michelleport</td>\n",
              "      <td>2018-03-04 18:24:09</td>\n",
              "      <td>30.24</td>\n",
              "      <td>2343912425577</td>\n",
              "    </tr>\n",
              "    <tr>\n",
              "      <th>2</th>\n",
              "      <td>Port Samanthamouth</td>\n",
              "      <td>2018-02-24 04:29:00</td>\n",
              "      <td>33.44</td>\n",
              "      <td>2005065760003</td>\n",
              "    </tr>\n",
              "    <tr>\n",
              "      <th>3</th>\n",
              "      <td>Rodneyfort</td>\n",
              "      <td>2018-02-10 23:22:03</td>\n",
              "      <td>23.44</td>\n",
              "      <td>5149245426178</td>\n",
              "    </tr>\n",
              "    <tr>\n",
              "      <th>4</th>\n",
              "      <td>South Jack</td>\n",
              "      <td>2018-03-06 04:28:35</td>\n",
              "      <td>34.58</td>\n",
              "      <td>3908451377344</td>\n",
              "    </tr>\n",
              "  </tbody>\n",
              "</table>\n",
              "</div>"
            ],
            "text/plain": [
              "                 city                 date   fare        ride_id\n",
              "0  Lake Jonathanshire  2018-01-14 10:14:22  13.83  5739410935873\n",
              "1  South Michelleport  2018-03-04 18:24:09  30.24  2343912425577\n",
              "2  Port Samanthamouth  2018-02-24 04:29:00  33.44  2005065760003\n",
              "3          Rodneyfort  2018-02-10 23:22:03  23.44  5149245426178\n",
              "4          South Jack  2018-03-06 04:28:35  34.58  3908451377344"
            ]
          },
          "metadata": {
            "tags": []
          },
          "execution_count": 13
        }
      ]
    },
    {
      "cell_type": "code",
      "metadata": {
        "id": "dHLOnxlthK6J",
        "colab_type": "code",
        "colab": {
          "base_uri": "https://localhost:8080/",
          "height": 195
        },
        "outputId": "d931b8b7-3c5d-4817-a6c1-6a16bee8a462"
      },
      "source": [
        "city_ride_data = pd.merge(city_data, ride_data, on='city')\n",
        "city_ride_data.head()"
      ],
      "execution_count": 15,
      "outputs": [
        {
          "output_type": "execute_result",
          "data": {
            "text/html": [
              "<div>\n",
              "<style scoped>\n",
              "    .dataframe tbody tr th:only-of-type {\n",
              "        vertical-align: middle;\n",
              "    }\n",
              "\n",
              "    .dataframe tbody tr th {\n",
              "        vertical-align: top;\n",
              "    }\n",
              "\n",
              "    .dataframe thead th {\n",
              "        text-align: right;\n",
              "    }\n",
              "</style>\n",
              "<table border=\"1\" class=\"dataframe\">\n",
              "  <thead>\n",
              "    <tr style=\"text-align: right;\">\n",
              "      <th></th>\n",
              "      <th>city</th>\n",
              "      <th>driver_count</th>\n",
              "      <th>type</th>\n",
              "      <th>date</th>\n",
              "      <th>fare</th>\n",
              "      <th>ride_id</th>\n",
              "    </tr>\n",
              "  </thead>\n",
              "  <tbody>\n",
              "    <tr>\n",
              "      <th>0</th>\n",
              "      <td>Richardfort</td>\n",
              "      <td>38</td>\n",
              "      <td>Urban</td>\n",
              "      <td>2018-02-24 08:40:38</td>\n",
              "      <td>13.93</td>\n",
              "      <td>5628545007794</td>\n",
              "    </tr>\n",
              "    <tr>\n",
              "      <th>1</th>\n",
              "      <td>Richardfort</td>\n",
              "      <td>38</td>\n",
              "      <td>Urban</td>\n",
              "      <td>2018-02-13 12:46:07</td>\n",
              "      <td>14.00</td>\n",
              "      <td>910050116494</td>\n",
              "    </tr>\n",
              "    <tr>\n",
              "      <th>2</th>\n",
              "      <td>Richardfort</td>\n",
              "      <td>38</td>\n",
              "      <td>Urban</td>\n",
              "      <td>2018-02-16 13:52:19</td>\n",
              "      <td>17.92</td>\n",
              "      <td>820639054416</td>\n",
              "    </tr>\n",
              "    <tr>\n",
              "      <th>3</th>\n",
              "      <td>Richardfort</td>\n",
              "      <td>38</td>\n",
              "      <td>Urban</td>\n",
              "      <td>2018-02-01 20:18:28</td>\n",
              "      <td>10.26</td>\n",
              "      <td>9554935945413</td>\n",
              "    </tr>\n",
              "    <tr>\n",
              "      <th>4</th>\n",
              "      <td>Richardfort</td>\n",
              "      <td>38</td>\n",
              "      <td>Urban</td>\n",
              "      <td>2018-04-17 02:26:37</td>\n",
              "      <td>23.00</td>\n",
              "      <td>720020655850</td>\n",
              "    </tr>\n",
              "  </tbody>\n",
              "</table>\n",
              "</div>"
            ],
            "text/plain": [
              "          city  driver_count   type                 date   fare        ride_id\n",
              "0  Richardfort            38  Urban  2018-02-24 08:40:38  13.93  5628545007794\n",
              "1  Richardfort            38  Urban  2018-02-13 12:46:07  14.00   910050116494\n",
              "2  Richardfort            38  Urban  2018-02-16 13:52:19  17.92   820639054416\n",
              "3  Richardfort            38  Urban  2018-02-01 20:18:28  10.26  9554935945413\n",
              "4  Richardfort            38  Urban  2018-04-17 02:26:37  23.00   720020655850"
            ]
          },
          "metadata": {
            "tags": []
          },
          "execution_count": 15
        }
      ]
    },
    {
      "cell_type": "code",
      "metadata": {
        "id": "tr1U7oyxhrKv",
        "colab_type": "code",
        "colab": {
          "base_uri": "https://localhost:8080/",
          "height": 225
        },
        "outputId": "736811a6-4b7f-49ba-ee9b-e3dbc1b8caa2"
      },
      "source": [
        "group = city_ride_data.groupby(by='city')\n",
        "result = pd.DataFrame({ 'Average Fare': group.mean()['fare'], 'Number of Rides': group.size() })\n",
        "result.head()"
      ],
      "execution_count": 28,
      "outputs": [
        {
          "output_type": "execute_result",
          "data": {
            "text/html": [
              "<div>\n",
              "<style scoped>\n",
              "    .dataframe tbody tr th:only-of-type {\n",
              "        vertical-align: middle;\n",
              "    }\n",
              "\n",
              "    .dataframe tbody tr th {\n",
              "        vertical-align: top;\n",
              "    }\n",
              "\n",
              "    .dataframe thead th {\n",
              "        text-align: right;\n",
              "    }\n",
              "</style>\n",
              "<table border=\"1\" class=\"dataframe\">\n",
              "  <thead>\n",
              "    <tr style=\"text-align: right;\">\n",
              "      <th></th>\n",
              "      <th>Average Fare</th>\n",
              "      <th>Number of Rides</th>\n",
              "    </tr>\n",
              "    <tr>\n",
              "      <th>city</th>\n",
              "      <th></th>\n",
              "      <th></th>\n",
              "    </tr>\n",
              "  </thead>\n",
              "  <tbody>\n",
              "    <tr>\n",
              "      <th>Amandaburgh</th>\n",
              "      <td>24.641667</td>\n",
              "      <td>18</td>\n",
              "    </tr>\n",
              "    <tr>\n",
              "      <th>Barajasview</th>\n",
              "      <td>25.332273</td>\n",
              "      <td>22</td>\n",
              "    </tr>\n",
              "    <tr>\n",
              "      <th>Barronchester</th>\n",
              "      <td>36.422500</td>\n",
              "      <td>16</td>\n",
              "    </tr>\n",
              "    <tr>\n",
              "      <th>Bethanyland</th>\n",
              "      <td>32.956111</td>\n",
              "      <td>18</td>\n",
              "    </tr>\n",
              "    <tr>\n",
              "      <th>Bradshawfurt</th>\n",
              "      <td>40.064000</td>\n",
              "      <td>10</td>\n",
              "    </tr>\n",
              "  </tbody>\n",
              "</table>\n",
              "</div>"
            ],
            "text/plain": [
              "               Average Fare  Number of Rides\n",
              "city                                        \n",
              "Amandaburgh       24.641667               18\n",
              "Barajasview       25.332273               22\n",
              "Barronchester     36.422500               16\n",
              "Bethanyland       32.956111               18\n",
              "Bradshawfurt      40.064000               10"
            ]
          },
          "metadata": {
            "tags": []
          },
          "execution_count": 28
        }
      ]
    },
    {
      "cell_type": "code",
      "metadata": {
        "id": "CCCeqeakpjaJ",
        "colab_type": "code",
        "colab": {
          "base_uri": "https://localhost:8080/",
          "height": 279
        },
        "outputId": "5b27a7cd-1b81-45e0-ee6a-c422093b8f2a"
      },
      "source": [
        "plt.scatter(result['Number of Rides'], result['Average Fare'], c='Orange')\n",
        "plt.xlabel('# of Rides')\n",
        "plt.ylabel('Average Fare per City')\n",
        "plt.grid(b=True)\n",
        "plt.show()"
      ],
      "execution_count": 34,
      "outputs": [
        {
          "output_type": "display_data",
          "data": {
            "image/png": "[encoded data removed]",
            "text/plain": [
              "<Figure size 432x288 with 1 Axes>"
            ]
          },
          "metadata": {
            "tags": []
          }
        }
      ]
    },
    {
      "cell_type": "code",
      "metadata": {
        "id": "2DmndTOkqx8_",
        "colab_type": "code",
        "colab": {
          "base_uri": "https://localhost:8080/",
          "height": 166
        },
        "outputId": "c9eb1c3b-f3b0-440b-a19c-a21340e97be6"
      },
      "source": [
        "group_by_type = city_ride_data.groupby(by='type')\n",
        "group_by_type.sum()"
      ],
      "execution_count": 38,
      "outputs": [
        {
          "output_type": "execute_result",
          "data": {
            "text/html": [
              "<div>\n",
              "<style scoped>\n",
              "    .dataframe tbody tr th:only-of-type {\n",
              "        vertical-align: middle;\n",
              "    }\n",
              "\n",
              "    .dataframe tbody tr th {\n",
              "        vertical-align: top;\n",
              "    }\n",
              "\n",
              "    .dataframe thead th {\n",
              "        text-align: right;\n",
              "    }\n",
              "</style>\n",
              "<table border=\"1\" class=\"dataframe\">\n",
              "  <thead>\n",
              "    <tr style=\"text-align: right;\">\n",
              "      <th></th>\n",
              "      <th>driver_count</th>\n",
              "      <th>fare</th>\n",
              "      <th>ride_id</th>\n",
              "    </tr>\n",
              "    <tr>\n",
              "      <th>type</th>\n",
              "      <th></th>\n",
              "      <th></th>\n",
              "      <th></th>\n",
              "    </tr>\n",
              "  </thead>\n",
              "  <tbody>\n",
              "    <tr>\n",
              "      <th>Rural</th>\n",
              "      <td>537</td>\n",
              "      <td>4327.93</td>\n",
              "      <td>580968240341287</td>\n",
              "    </tr>\n",
              "    <tr>\n",
              "      <th>Suburban</th>\n",
              "      <td>8570</td>\n",
              "      <td>19356.33</td>\n",
              "      <td>3106884522576766</td>\n",
              "    </tr>\n",
              "    <tr>\n",
              "      <th>Urban</th>\n",
              "      <td>59602</td>\n",
              "      <td>39854.38</td>\n",
              "      <td>7919412664056093</td>\n",
              "    </tr>\n",
              "  </tbody>\n",
              "</table>\n",
              "</div>"
            ],
            "text/plain": [
              "          driver_count      fare           ride_id\n",
              "type                                              \n",
              "Rural              537   4327.93   580968240341287\n",
              "Suburban          8570  19356.33  3106884522576766\n",
              "Urban            59602  39854.38  7919412664056093"
            ]
          },
          "metadata": {
            "tags": []
          },
          "execution_count": 38
        }
      ]
    },
    {
      "cell_type": "code",
      "metadata": {
        "id": "4Slionwmt6A-",
        "colab_type": "code",
        "colab": {
          "base_uri": "https://localhost:8080/",
          "height": 166
        },
        "outputId": "754c2c4a-4547-469c-f415-987dd1545deb"
      },
      "source": [
        "group_by_type_with_city = pd.merge(result, city_data, on='city').groupby(by='type')\n",
        "group_by_type_with_city.sum()"
      ],
      "execution_count": 59,
      "outputs": [
        {
          "output_type": "execute_result",
          "data": {
            "text/html": [
              "<div>\n",
              "<style scoped>\n",
              "    .dataframe tbody tr th:only-of-type {\n",
              "        vertical-align: middle;\n",
              "    }\n",
              "\n",
              "    .dataframe tbody tr th {\n",
              "        vertical-align: top;\n",
              "    }\n",
              "\n",
              "    .dataframe thead th {\n",
              "        text-align: right;\n",
              "    }\n",
              "</style>\n",
              "<table border=\"1\" class=\"dataframe\">\n",
              "  <thead>\n",
              "    <tr style=\"text-align: right;\">\n",
              "      <th></th>\n",
              "      <th>Average Fare</th>\n",
              "      <th>Number of Rides</th>\n",
              "      <th>driver_count</th>\n",
              "    </tr>\n",
              "    <tr>\n",
              "      <th>type</th>\n",
              "      <th></th>\n",
              "      <th></th>\n",
              "      <th></th>\n",
              "    </tr>\n",
              "  </thead>\n",
              "  <tbody>\n",
              "    <tr>\n",
              "      <th>Rural</th>\n",
              "      <td>623.479771</td>\n",
              "      <td>125</td>\n",
              "      <td>78</td>\n",
              "    </tr>\n",
              "    <tr>\n",
              "      <th>Suburban</th>\n",
              "      <td>1106.542729</td>\n",
              "      <td>625</td>\n",
              "      <td>490</td>\n",
              "    </tr>\n",
              "    <tr>\n",
              "      <th>Urban</th>\n",
              "      <td>1616.942033</td>\n",
              "      <td>1625</td>\n",
              "      <td>2405</td>\n",
              "    </tr>\n",
              "  </tbody>\n",
              "</table>\n",
              "</div>"
            ],
            "text/plain": [
              "          Average Fare  Number of Rides  driver_count\n",
              "type                                                 \n",
              "Rural       623.479771              125            78\n",
              "Suburban   1106.542729              625           490\n",
              "Urban      1616.942033             1625          2405"
            ]
          },
          "metadata": {
            "tags": []
          },
          "execution_count": 59
        }
      ]
    },
    {
      "cell_type": "code",
      "metadata": {
        "id": "B2feSSsbrrfq",
        "colab_type": "code",
        "colab": {
          "base_uri": "https://localhost:8080/",
          "height": 342
        },
        "outputId": "4fdee8a7-6e09-4d54-bd1b-aff1ba88943a"
      },
      "source": [
        "fig, (ax1, ax2) = plt.subplots(nrows=1, ncols=2)\n",
        "ax1.pie(group_by_type.sum()['fare'], colors=['blue', 'yellow', 'orange'], labels=['Rural', 'Suburban', 'Urban'], autopct='%.1f%%')\n",
        "ax2.pie(group_by_type_with_city.sum()['Number of Rides'], colors=['blue', 'yellow', 'orange'], labels=['Rural', 'Suburban', 'Urban'], autopct='%.1f%%')"
      ],
      "execution_count": 60,
      "outputs": [
        {
          "output_type": "execute_result",
          "data": {
            "text/plain": [
              "([<matplotlib.patches.Wedge at 0x7ff044ac0d30>,\n",
              "  <matplotlib.patches.Wedge at 0x7ff044acc438>,\n",
              "  <matplotlib.patches.Wedge at 0x7ff044accb00>],\n",
              " [Text(1.0849974335199486, 0.1810540506454493, 'Rural'),\n",
              "  Text(0.4418649348526167, 1.0073506734735889, 'Suburban'),\n",
              "  Text(-0.601642880908579, -0.9208831868657531, 'Urban')],\n",
              " [Text(0.5918167819199719, 0.09875675489751778, '5.3%'),\n",
              "  Text(0.24101723719233634, 0.5494640037128666, '26.3%'),\n",
              "  Text(-0.32816884413195213, -0.5022999201085925, '68.4%')])"
            ]
          },
          "metadata": {
            "tags": []
          },
          "execution_count": 60
        },
        {
          "output_type": "display_data",
          "data": {
            "image/png": "[encoded data removed]",
            "text/plain": [
              "<Figure size 432x288 with 2 Axes>"
            ]
          },
          "metadata": {
            "tags": []
          }
        }
      ]
    }
  ]
}